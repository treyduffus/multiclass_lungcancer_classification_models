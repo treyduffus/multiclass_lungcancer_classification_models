{
    "cells": [
     {
      "cell_type": "markdown",
      "metadata": {},
      "source": [
       "# Compare Fold-Change and Chi-Squared Results\n",
       "### Group 33, Florida Atlantic University\n",
       "- Compare top-ranked features from fold-change and chi-squared feature selection methods.\n",
       "- Identify overlapping and unique features.\n",
       "- Save results for biomarker ranking and downstream analysis.\n"
      ]
     },
     {
      "cell_type": "markdown",
      "metadata": {},
      "source": [
       "#### Load and Inspect Data"
      ]
     },
     {
      "cell_type": "code",
      "execution_count": null,
      "metadata": {},
      "outputs": [],
      "source": [
       "# Load necessary libraries\n",
       "import pandas as pd\n",
       "\n",
       "# Load results from the results folder\n",
       "fold_change_df = pd.read_csv('../results/fold_change_results.csv')\n",
       "chi2_ranked_df = pd.read_csv('../results/chi_squared_features.csv')\n",
       "\n",
       "# Inspect the datasets\n",
       "print(\"Fold-change dataset:\")\n",
       "print(\"Columns:\", fold_change_df.columns)\n",
       "print(fold_change_df.head())\n",
       "\n",
       "print(\"\\nChi-squared dataset:\")\n",
       "print(\"Columns:\", chi2_ranked_df.columns)\n",
       "print(chi2_ranked_df.head())"
      ]
     },
     {
      "cell_type": "markdown",
      "metadata": {},
      "source": [
       "#### Clean and Align Datasets"
      ]
     },
     {
      "cell_type": "code",
      "execution_count": null,
      "metadata": {},
      "outputs": [],
      "source": [
       "# Clean fold-change dataset\n",
       "if 'Unnamed: 0' in fold_change_df.columns:\n",
       "    fold_change_df.rename(columns={\"Unnamed: 0\": \"Feature\", \"0\": \"Score\"}, inplace=True)\n",
       "\n",
       "# Clean chi-squared dataset\n",
       "chi2_ranked_df = chi2_ranked_df[['Feature', 'Chi2_Score']].rename(columns={'Chi2_Score': 'Score'})\n",
       "\n",
       "# Ensure feature names are standardized\n",
       "fold_change_df['Feature'] = fold_change_df['Feature'].astype(str).str.strip()\n",
       "chi2_ranked_df['Feature'] = chi2_ranked_df['Feature'].astype(str).str.strip()\n",
       "\n",
       "print(\"Cleaned datasets:\")\n",
       "print(\"\\nFold-change:\")\n",
       "print(fold_change_df.head())\n",
       "print(\"\\nChi-squared:\")\n",
       "print(chi2_ranked_df.head())"
      ]
     },
     {
      "cell_type": "markdown",
      "metadata": {},
      "source": [
       "#### Extract Top Features"
      ]
     },
     {
      "cell_type": "code",
      "execution_count": null,
      "metadata": {},
      "outputs": [],
      "source": [
       "# Set number of top features to compare\n",
       "n_features = 100\n",
       "\n",
       "# Get top features from both methods\n",
       "top_fold_change = fold_change_df.head(n_features)['Feature'].tolist()\n",
       "top_chi2 = chi2_ranked_df.head(n_features)['Feature'].tolist()\n",
       "\n",
       "print(f\"Number of features selected from each method: {n_features}\")\n",
       "print(\"\\nExample fold-change features (first 5):\")\n",
       "for i, feature in enumerate(top_fold_change[:5], 1):\n",
       "    score = fold_change_df[fold_change_df['Feature'] == feature]['Score'].iloc[0]\n",
       "    print(f\"{i}. {feature} (score: {score:.4f})\")\n",
       "\n",
       "print(\"\\nExample chi-squared features (first 5):\")\n",
       "for i, feature in enumerate(top_chi2[:5], 1):\n",
       "    score = chi2_ranked_df[chi2_ranked_df['Feature'] == feature]['Score'].iloc[0]\n",
       "    print(f\"{i}. {feature} (score: {score:.4f})\")"
      ]
     },
     {
      "cell_type": "markdown",
      "metadata": {},
      "source": [
       "#### Find Overlapping Features"
      ]
     },
     {
      "cell_type": "code",
      "execution_count": null,
      "metadata": {},
      "outputs": [],
      "source": [
       "# Find overlapping features\n",
       "overlaps = set(top_fold_change).intersection(set(top_chi2))\n",
       "\n",
       "print(f\"Number of overlapping features: {len(overlaps)}\")\n",
       "if overlaps:\n",
       "    print(\"\\nOverlapping features:\")\n",
       "    for feature in overlaps:\n",
       "        fc_score = fold_change_df[fold_change_df['Feature'] == feature]['Score'].iloc[0]\n",
       "        chi2_score = chi2_ranked_df[chi2_ranked_df['Feature'] == feature]['Score'].iloc[0]\n",
       "        print(f\"\\n{feature}:\")\n",
       "        print(f\"  Fold-change score: {fc_score:.4f}\")\n",
       "        print(f\"  Chi-squared score: {chi2_score:.4f}\")\n",
       "else:\n",
       "    print(\"\\nNo overlapping features found\")"
      ]
     },
     {
      "cell_type": "markdown",
      "metadata": {},
      "source": [
       "#### Save Results"
      ]
     },
     {
      "cell_type": "code",
      "execution_count": null,
      "metadata": {},
      "outputs": [],
      "source": [
       "# Create summary DataFrame\n",
       "summary_data = {\n",
       "    'Method': ['Fold Change', 'Chi-squared', 'Overlap'],\n",
       "    'Number of Features': [len(top_fold_change), len(top_chi2), len(overlaps)]\n",
       "}\n",
       "summary_df = pd.DataFrame(summary_data)\n",
       "\n",
       "# Save overlapping features if any exist\n",
       "if overlaps:\n",
       "    overlap_data = []\n",
       "    for feature in overlaps:\n",
       "        fc_score = fold_change_df[fold_change_df['Feature'] == feature]['Score'].iloc[0]\n",
       "        chi2_score = chi2_ranked_df[chi2_ranked_df['Feature'] == feature]['Score'].iloc[0]\n",
       "        overlap_data.append({\n",
       "            'Feature': feature,\n",
       "            'Fold_Change_Score': fc_score,\n",
       "            'Chi_Squared_Score': chi2_score\n",
       "        })\n",
       "    overlap_df = pd.DataFrame(overlap_data)\n",
       "    overlap_df.to_csv('../results/overlapping_features.csv', index=False)\n",
       "\n",
       "# Save summary\n",
       "summary_df.to_csv('../results/feature_comparison_summary.csv', index=False)\n",
       "\n",
       "print(\"Results saved to results folder\")\n",
       "print(\"\\nSummary:\")\n",
       "print(summary_df)"
      ]
     }
    ],
    "metadata": {
     "kernelspec": {
      "display_name": ".miRNA",
      "language": "python",
      "name": "python3"
     },
     "language_info": {
      "codemirror_mode": {
       "name": "ipython",
       "version": 3
      },
      "file_extension": ".py",
      "mimetype": "text/x-python",
      "name": "python",
      "nbconvert_exporter": "python",
      "pygments_lexer": "ipython3",
      "version": "3.13.0"
     }
    },
    "nbformat": 4,
    "nbformat_minor": 2
   }