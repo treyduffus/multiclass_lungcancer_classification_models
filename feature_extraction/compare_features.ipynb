{
 "cells": [
  {
   "cell_type": "markdown",
   "metadata": {},
   "source": [
    "# Compare Fold-Change and Chi-Squared Results\n",
    "### Group 33, Florida Atlantic University\n",
    "- Compare top-ranked features from fold-change and chi-squared feature selection methods.\n",
    "- Identify overlapping and unique features.\n",
    "- Save results for biomarker ranking and downstream analysis."
   ]
  },
  {
   "cell_type": "code",
   "execution_count": 6,
   "metadata": {},
   "outputs": [],
   "source": [
    "# Load necessary libraries\n",
    "import pandas as pd\n",
    "import matplotlib.pyplot as plt\n",
    "import seaborn as sns\n",
    "from matplotlib_venn import venn2  # You might need to install this: pip install matplotlib-venn"
   ]
  },
  {
   "cell_type": "markdown",
   "metadata": {},
   "source": [
    "#### Load and Validate Results"
   ]
  },
  {
   "cell_type": "code",
   "execution_count": 7,
   "metadata": {},
   "outputs": [
    {
     "name": "stdout",
     "output_type": "stream",
     "text": [
      "Fold Change Results:\n",
      "Total features: 1881\n",
      "Number of NaN values: 0\n",
      "\n",
      "First few fold change results:\n",
      "       Unnamed: 0         0\n",
      "0    hsa-mir-520a  8.776809\n",
      "1    hsa-mir-520f  7.479981\n",
      "2    hsa-mir-518c  7.341205\n",
      "3  hsa-mir-516b-1  6.974440\n",
      "4   hsa-mir-512-1  6.891411\n",
      "\n",
      "Chi-squared Results:\n",
      "Total features: 1881\n",
      "Number of NaN values: 490\n",
      "\n",
      "First few chi-squared results:\n",
      "        Feature  Chi2_Score       P_Value\n",
      "0   hsa-mir-571   71.190977  1.272047e-14\n",
      "1  hsa-mir-4663   38.356704  9.458739e-08\n",
      "2  hsa-mir-3973   34.193548  6.800901e-07\n",
      "3  hsa-mir-8082   34.193548  6.800901e-07\n",
      "4  hsa-mir-451b   18.508169  9.815199e-04\n"
     ]
    }
   ],
   "source": [
    "# Load results from the new results folder\n",
    "fold_change_df = pd.read_csv('../results/fold_change_results.csv')\n",
    "chi2_df = pd.read_csv('../results/chi_squared_features.csv')\n",
    "\n",
    "# Display basic information about the datasets\n",
    "print(\"Fold Change Results:\")\n",
    "print(f\"Total features: {len(fold_change_df)}\")\n",
    "print(f\"Number of NaN values: {fold_change_df.isna().sum().sum()}\")\n",
    "print(\"\\nFirst few fold change results:\")\n",
    "print(fold_change_df.head())\n",
    "\n",
    "print(\"\\nChi-squared Results:\")\n",
    "print(f\"Total features: {len(chi2_df)}\")\n",
    "print(f\"Number of NaN values: {chi2_df.isna().sum().sum()}\")\n",
    "print(\"\\nFirst few chi-squared results:\")\n",
    "print(chi2_df.head())"
   ]
  },
  {
   "cell_type": "markdown",
   "metadata": {},
   "source": [
    "#### Prepare Data for Comparison"
   ]
  },
  {
   "cell_type": "code",
   "execution_count": 8,
   "metadata": {},
   "outputs": [
    {
     "name": "stdout",
     "output_type": "stream",
     "text": [
      "Number of statistically significant features (p < 0.05): 10\n",
      "\n",
      "Number of top features selected from each method: 100\n",
      "Number of features in fold change selection: 100\n",
      "Number of features in chi-squared selection: 10\n"
     ]
    }
   ],
   "source": [
    "# Standardize feature names and scores\n",
    "fold_change_df['Feature'] = fold_change_df.iloc[:, 0]  # First column contains feature names\n",
    "fold_change_df['Score'] = fold_change_df.iloc[:, 1]    # Second column contains scores\n",
    "fold_change_df = fold_change_df[['Feature', 'Score']]\n",
    "\n",
    "# Filter significant features from chi-squared results\n",
    "significant_chi2 = chi2_df[chi2_df['P_Value'] < 0.05].copy()\n",
    "print(f\"Number of statistically significant features (p < 0.05): {len(significant_chi2)}\")\n",
    "\n",
    "# Get top features from each method\n",
    "top_n = 100  # Adjust this number as needed\n",
    "top_fold_change = fold_change_df.head(top_n)['Feature'].tolist()\n",
    "top_chi2 = significant_chi2.head(top_n)['Feature'].tolist()\n",
    "\n",
    "print(f\"\\nNumber of top features selected from each method: {top_n}\")\n",
    "print(f\"Number of features in fold change selection: {len(top_fold_change)}\")\n",
    "print(f\"Number of features in chi-squared selection: {len(top_chi2)}\")"
   ]
  },
  {
   "cell_type": "markdown",
   "metadata": {},
   "source": [
    "#### Find and Analyze Overlapping Features"
   ]
  },
  {
   "cell_type": "code",
   "execution_count": 9,
   "metadata": {},
   "outputs": [
    {
     "name": "stdout",
     "output_type": "stream",
     "text": [
      "Number of overlapping features: 0\n",
      "\n",
      "Overlapping features:\n"
     ]
    }
   ],
   "source": [
    "# Find overlapping features\n",
    "overlapping_features = set(top_fold_change).intersection(set(top_chi2))\n",
    "\n",
    "print(f\"Number of overlapping features: {len(overlapping_features)}\")\n",
    "print(\"\\nOverlapping features:\")\n",
    "for feature in overlapping_features:\n",
    "    fold_change_score = fold_change_df[fold_change_df['Feature'] == feature]['Score'].iloc[0]\n",
    "    chi2_score = chi2_df[chi2_df['Feature'] == feature]['Chi2_Score'].iloc[0]\n",
    "    print(f\"\\n{feature}:\")\n",
    "    print(f\"  Fold Change Score: {fold_change_score:.3f}\")\n",
    "    print(f\"  Chi-squared Score: {chi2_score:.3f}\")"
   ]
  },
  {
   "cell_type": "markdown",
   "metadata": {},
   "source": [
    "#### Visualize Results"
   ]
  },
  {
   "cell_type": "code",
   "execution_count": 10,
   "metadata": {},
   "outputs": [
    {
     "data": {
      "image/png": "[encoded data removed]",
      "text/plain": [
       "<Figure size 1000x600 with 1 Axes>"
      ]
     },
     "metadata": {},
     "output_type": "display_data"
    }
   ],
   "source": [
    "# Create Venn diagram of overlap\n",
    "plt.figure(figsize=(10, 6))\n",
    "venn2([set(top_fold_change), set(top_chi2)],\n",
    "      set_labels=('Fold Change', 'Chi-squared'),\n",
    "      set_colors=('skyblue', 'lightgreen'))\n",
    "plt.title('Overlap between Top Features from Both Methods')\n",
    "plt.show()\n",
    "\n",
    "# Create scatter plot of scores for overlapping features\n",
    "if len(overlapping_features) > 0:\n",
    "    overlap_data = []\n",
    "    for feature in overlapping_features:\n",
    "        fold_change_score = fold_change_df[fold_change_df['Feature'] == feature]['Score'].iloc[0]\n",
    "        chi2_score = chi2_df[chi2_df['Feature'] == feature]['Chi2_Score'].iloc[0]\n",
    "        overlap_data.append({'Feature': feature, \n",
    "                            'Fold Change Score': fold_change_score,\n",
    "                            'Chi-squared Score': chi2_score})\n",
    "    \n",
    "    overlap_df = pd.DataFrame(overlap_data)\n",
    "    \n",
    "    plt.figure(figsize=(10, 6))\n",
    "    plt.scatter(overlap_df['Fold Change Score'], \n",
    "                overlap_df['Chi-squared Score'],\n",
    "                alpha=0.6)\n",
    "    \n",
    "    for i, txt in enumerate(overlap_df['Feature']):\n",
    "        plt.annotate(txt, (overlap_df['Fold Change Score'].iloc[i], \n",
    "                          overlap_df['Chi-squared Score'].iloc[i]))\n",
    "        \n",
    "    plt.xlabel('Fold Change Score')\n",
    "    plt.ylabel('Chi-squared Score')\n",
    "    plt.title('Score Comparison for Overlapping Features')\n",
    "    plt.show()"
   ]
  },
  {
   "cell_type": "markdown",
   "metadata": {},
   "source": [
    "#### Save Results"
   ]
  },
  {
   "cell_type": "code",
   "execution_count": 11,
   "metadata": {},
   "outputs": [
    {
     "name": "stdout",
     "output_type": "stream",
     "text": [
      "Results saved to:\n",
      "- ../results/feature_comparison_results.json\n",
      "- ../results/feature_comparison_summary.csv\n",
      "\n",
      "Summary:\n",
      "        Method  Number of Features\n",
      "0  Fold Change                 100\n",
      "1  Chi-squared                  10\n",
      "2      Overlap                   0\n"
     ]
    }
   ],
   "source": [
    "# Create a comprehensive results dictionary\n",
    "results = {\n",
    "    'overlapping_features': list(overlapping_features),\n",
    "    'unique_to_fold_change': list(set(top_fold_change) - set(top_chi2)),\n",
    "    'unique_to_chi_squared': list(set(top_chi2) - set(top_fold_change))\n",
    "}\n",
    "\n",
    "# Save detailed results\n",
    "import json\n",
    "with open('../results/feature_comparison_results.json', 'w') as f:\n",
    "    json.dump(results, f, indent=4)\n",
    "\n",
    "# Create and save a summary DataFrame\n",
    "summary_data = {\n",
    "    'Method': ['Fold Change', 'Chi-squared', 'Overlap'],\n",
    "    'Number of Features': [len(top_fold_change), \n",
    "                          len(top_chi2), \n",
    "                          len(overlapping_features)]\n",
    "}\n",
    "summary_df = pd.DataFrame(summary_data)\n",
    "summary_df.to_csv('../results/feature_comparison_summary.csv', index=False)\n",
    "\n",
    "print(\"Results saved to:\")\n",
    "print(\"- ../results/feature_comparison_results.json\")\n",
    "print(\"- ../results/feature_comparison_summary.csv\")\n",
    "\n",
    "# Display summary\n",
    "print(\"\\nSummary:\")\n",
    "print(summary_df)"
   ]
  },
  {
   "cell_type": "code",
   "execution_count": null,
   "metadata": {},
   "outputs": [],
   "source": []
  }
 ],
 "metadata": {
  "kernelspec": {
   "display_name": ".miRNA",
   "language": "python",
   "name": "python3"
  },
  "language_info": {
   "codemirror_mode": {
    "name": "ipython",
    "version": 3
   },
   "file_extension": ".py",
   "mimetype": "text/x-python",
   "name": "python",
   "nbconvert_exporter": "python",
   "pygments_lexer": "ipython3",
   "version": "3.13.0"
  }
 },
 "nbformat": 4,
 "nbformat_minor": 2
}
