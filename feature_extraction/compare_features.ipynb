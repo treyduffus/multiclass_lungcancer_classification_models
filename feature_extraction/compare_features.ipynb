{
 "cells": [
  {
   "cell_type": "markdown",
   "metadata": {},
   "source": [
    "# Compare Fold-Change and Chi-Squared Results\n",
    "### Group 33, Florida Atlantic University\n",
    "- Compare top-ranked features from fold-change and chi-squared feature selection methods.\n",
    "- Identify overlapping and unique features.\n",
    "- Save results for biomarker ranking and downstream analysis.\n"
   ]
  },
  {
   "cell_type": "markdown",
   "metadata": {
    "vscode": {
     "languageId": "plaintext"
    }
   },
   "source": [
    "#### Load and Inspect Data"
   ]
  },
  {
   "cell_type": "code",
   "execution_count": 26,
   "metadata": {},
   "outputs": [
    {
     "name": "stdout",
     "output_type": "stream",
     "text": [
      "Fold-change dataset columns: Index(['Unnamed: 0', '0'], dtype='object')\n",
      "       Unnamed: 0         0\n",
      "0    hsa-mir-520a  8.776809\n",
      "1    hsa-mir-520f  7.479981\n",
      "2    hsa-mir-518c  7.341205\n",
      "3  hsa-mir-516b-1  6.974440\n",
      "4   hsa-mir-512-1  6.891411\n",
      "Chi-squared dataset columns: Index(['Score', 'Feature'], dtype='object')\n",
      "       Score         Feature\n",
      "0        NaN  hsa-mir-103b-1\n",
      "1        NaN  hsa-mir-103b-2\n",
      "2        NaN    hsa-mir-1183\n",
      "3  38.356704    hsa-mir-4663\n",
      "4   5.234286  hsa-mir-1972-1\n"
     ]
    }
   ],
   "source": [
    "# Load necessary libraries\n",
    "import pandas as pd\n",
    "\n",
    "# Load fold-change results\n",
    "fold_change_df = pd.read_csv('../processed_data/fold_change_results.csv')\n",
    "\n",
    "# Load chi-squared results\n",
    "chi2_ranked_df = pd.read_csv('../processed_data/chi2_ranked_features.csv')\n",
    "\n",
    "# Inspect the datasets\n",
    "print(\"Fold-change dataset columns:\", fold_change_df.columns)\n",
    "print(fold_change_df.head())\n",
    "\n",
    "print(\"Chi-squared dataset columns:\", chi2_ranked_df.columns)\n",
    "print(chi2_ranked_df.head())"
   ]
  },
  {
   "cell_type": "markdown",
   "metadata": {},
   "source": [
    "#### Clean and Align Datasets"
   ]
  },
  {
   "cell_type": "code",
   "execution_count": 27,
   "metadata": {},
   "outputs": [
    {
     "name": "stdout",
     "output_type": "stream",
     "text": [
      "Cleaned Fold-change dataset:\n",
      "          Feature         0\n",
      "0    hsa-mir-520a  8.776809\n",
      "1    hsa-mir-520f  7.479981\n",
      "2    hsa-mir-518c  7.341205\n",
      "3  hsa-mir-516b-1  6.974440\n",
      "4   hsa-mir-512-1  6.891411\n",
      "Cleaned Chi-squared dataset:\n",
      "       Score         Feature\n",
      "0        NaN  hsa-mir-103b-1\n",
      "1        NaN  hsa-mir-103b-2\n",
      "2        NaN    hsa-mir-1183\n",
      "3  38.356704    hsa-mir-4663\n",
      "4   5.234286  hsa-mir-1972-1\n"
     ]
    }
   ],
   "source": [
    "# Rename or reset index if necessary for fold-change\n",
    "if 'Unnamed: 0' in fold_change_df.columns:\n",
    "    fold_change_df.rename(columns={\"Unnamed: 0\": \"Feature\"}, inplace=True)  # Rename index column to Feature\n",
    "else:\n",
    "    fold_change_df.reset_index(inplace=True)  # Reset index to ensure miRNA names are in a column\n",
    "\n",
    "# Ensure feature names are strings and standardized\n",
    "fold_change_df['Feature'] = fold_change_df['Feature'].astype(str).str.strip().str.lower()\n",
    "chi2_ranked_df['Feature'] = chi2_ranked_df['Feature'].astype(str).str.strip().str.lower()\n",
    "\n",
    "# Check cleaned datasets\n",
    "print(\"Cleaned Fold-change dataset:\")\n",
    "print(fold_change_df.head())\n",
    "\n",
    "print(\"Cleaned Chi-squared dataset:\")\n",
    "print(chi2_ranked_df.head())"
   ]
  },
  {
   "cell_type": "markdown",
   "metadata": {},
   "source": [
    "#### Extract Top Features (If there are no overlaps, expand the comparison scope (e.g., top 200 features)"
   ]
  },
  {
   "cell_type": "code",
   "execution_count": 28,
   "metadata": {},
   "outputs": [
    {
     "name": "stdout",
     "output_type": "stream",
     "text": [
      "Top features from Fold-change results:\n",
      "0       hsa-mir-520a\n",
      "1       hsa-mir-520f\n",
      "2       hsa-mir-518c\n",
      "3     hsa-mir-516b-1\n",
      "4      hsa-mir-512-1\n",
      "           ...      \n",
      "95       hsa-mir-506\n",
      "96       hsa-mir-597\n",
      "97      hsa-mir-6505\n",
      "98      hsa-mir-3131\n",
      "99      hsa-mir-4454\n",
      "Name: Feature, Length: 100, dtype: object\n",
      "Top features from Chi-squared results:\n",
      "0     hsa-mir-103b-1\n",
      "1     hsa-mir-103b-2\n",
      "2       hsa-mir-1183\n",
      "3       hsa-mir-4663\n",
      "4     hsa-mir-1972-1\n",
      "           ...      \n",
      "95      hsa-mir-1250\n",
      "96      hsa-mir-1252\n",
      "97      hsa-mir-1263\n",
      "98      hsa-mir-1231\n",
      "99      hsa-mir-1227\n",
      "Name: Feature, Length: 100, dtype: object\n"
     ]
    }
   ],
   "source": [
    "# Extract top features from fold-change and chi-squared datasets\n",
    "top_fold_change_features = fold_change_df.head(100)['Feature']\n",
    "top_chi2_features = chi2_ranked_df.head(100)['Feature']\n",
    "\n",
    "# Display top features for verification\n",
    "print(\"Top features from Fold-change results:\")\n",
    "print(top_fold_change_features)\n",
    "\n",
    "print(\"Top features from Chi-squared results:\")\n",
    "print(top_chi2_features)"
   ]
  },
  {
   "cell_type": "markdown",
   "metadata": {},
   "source": [
    "#### Find Overlapping Features"
   ]
  },
  {
   "cell_type": "code",
   "execution_count": 29,
   "metadata": {},
   "outputs": [
    {
     "name": "stdout",
     "output_type": "stream",
     "text": [
      "Overlapping features:\n",
      "{'hsa-mir-2113', 'hsa-mir-1269b'}\n"
     ]
    }
   ],
   "source": [
    "# Find overlaps between top features\n",
    "overlaps = set(top_fold_change_features).intersection(set(top_chi2_features))\n",
    "\n",
    "# Display overlaps\n",
    "if overlaps:\n",
    "    print(\"Overlapping features:\")\n",
    "    print(overlaps)\n",
    "else:\n",
    "    print(\"No overlapping features found.\")"
   ]
  },
  {
   "cell_type": "markdown",
   "metadata": {},
   "source": [
    "#### Save Results"
   ]
  },
  {
   "cell_type": "code",
   "execution_count": 30,
   "metadata": {},
   "outputs": [
    {
     "name": "stdout",
     "output_type": "stream",
     "text": [
      "Overlapping features saved to ../processed_data/overlapping_features.txt\n",
      "Top features from each method saved for review.\n"
     ]
    }
   ],
   "source": [
    "# Save overlapping features to a text file\n",
    "if overlaps:\n",
    "    with open('../processed_data/overlapping_features.txt', 'w') as f:\n",
    "        for feature in overlaps:\n",
    "            f.write(f\"{feature}\\n\")\n",
    "    print(\"Overlapping features saved to ../processed_data/overlapping_features.txt\")\n",
    "else:\n",
    "    print(\"No overlaps to save.\")\n",
    "\n",
    "# Save top features from each method for documentation\n",
    "fold_change_df.head(10).to_csv('../processed_data/top_fold_change_features.csv', index=False)\n",
    "chi2_ranked_df.head(10).to_csv('../processed_data/top_chi2_features.csv', index=False)\n",
    "print(\"Top features from each method saved for review.\")\n"
   ]
  },
  {
   "cell_type": "code",
   "execution_count": null,
   "metadata": {},
   "outputs": [],
   "source": []
  }
 ],
 "metadata": {
  "kernelspec": {
   "display_name": ".miRNA",
   "language": "python",
   "name": "python3"
  },
  "language_info": {
   "codemirror_mode": {
    "name": "ipython",
    "version": 3
   },
   "file_extension": ".py",
   "mimetype": "text/x-python",
   "name": "python",
   "nbconvert_exporter": "python",
   "pygments_lexer": "ipython3",
   "version": "3.13.0"
  }
 },
 "nbformat": 4,
 "nbformat_minor": 2
}
