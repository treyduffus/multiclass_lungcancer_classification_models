{
  "cells": [
    {
      "cell_type": "markdown",
      "metadata": {
        "id": "nC-rNpuu71_X"
      },
      "source": [
        "## Decision Tree Classifier - Beta"
      ]
    },
    {
      "cell_type": "code",
      "execution_count": 2,
      "metadata": {
        "colab": {
          "base_uri": "https://localhost:8080/"
        },
        "id": "Vfcwia2271_a",
        "outputId": "84f187dc-8c3d-4d86-8040-01a8252cb896"
      },
      "outputs": [
        {
          "name": "stdout",
          "output_type": "stream",
          "text": [
            "Testing classification on: stage\n",
            "Baseline model accuracy for stage: 0.47\n",
            "Testing classification on: subtype\n",
            "Baseline model accuracy for subtype: 0.49\n"
          ]
        }
      ],
      "source": [
        "import pandas as  pd\n",
        "\n",
        "# Using 111 overlapping biomarkers for initial model\n",
        "from sklearn.tree import DecisionTreeClassifier\n",
        "from sklearn.model_selection import train_test_split\n",
        "\n",
        "# Load the data\n",
        "data = pd.read_csv('../processed_data/miRNA_stage_subtype.csv')\n",
        "fold_change = pd.read_csv('../results/fold_change_results.csv')\n",
        "chi_squared = pd.read_csv('../results/chi_squared_features.csv')\n",
        "\n",
        "# Get overlapping features\n",
        "fold_change_features = set(fold_change['Unnamed: 0'][:500])\n",
        "chi_squared_features = set(chi_squared['Feature'][:500])\n",
        "overlapping_features = list(fold_change_features.intersection(chi_squared_features))\n",
        "\n",
        "# Filter features\n",
        "miRNA_features = [f for f in overlapping_features if f in data.columns\n",
        "                 and f not in ['stage', 'subtype']]\n",
        "\n",
        "# Test on both stage and subtype\n",
        "targets = ['stage', 'subtype']\n",
        "for target in targets:\n",
        "    print(f\"Testing classification on: {target}\")\n",
        "\n",
        "    # Prepare data\n",
        "    X = data[miRNA_features]\n",
        "    y = data[target]\n",
        "\n",
        "    # Split data and train model\n",
        "    X_train, X_test, y_train, y_test = train_test_split(X, y, test_size=0.2)\n",
        "    clf = DecisionTreeClassifier(max_depth=5)\n",
        "    clf.fit(X_train, y_train)\n",
        "\n",
        "    # Evaluate model\n",
        "    accuracy = clf.score(X_test, y_test)\n",
        "    print(f\"Baseline model accuracy for {target}: {accuracy:.2f}\")"
      ]
    }
  ],
  "metadata": {
    "colab": {
      "provenance": []
    },
    "kernelspec": {
      "display_name": ".venv",
      "language": "python",
      "name": "python3"
    },
    "language_info": {
      "codemirror_mode": {
        "name": "ipython",
        "version": 3
      },
      "file_extension": ".py",
      "mimetype": "text/x-python",
      "name": "python",
      "nbconvert_exporter": "python",
      "pygments_lexer": "ipython3",
      "version": "3.12.3"
    }
  },
  "nbformat": 4,
  "nbformat_minor": 0
}
