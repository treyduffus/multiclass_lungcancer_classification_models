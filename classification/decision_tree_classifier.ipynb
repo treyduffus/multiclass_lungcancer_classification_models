{
 "cells": [
  {
   "cell_type": "markdown",
   "metadata": {},
   "source": [
    "## Decision Tree Classifier - Beta"
   ]
  },
  {
   "cell_type": "code",
   "execution_count": 4,
   "metadata": {},
   "outputs": [
    {
     "name": "stdout",
     "output_type": "stream",
     "text": [
      "Baseline model accuracy: 0.42\n"
     ]
    }
   ],
   "source": [
    "# Using 111 overlapping biomarkers for initial model\n",
    "from sklearn.tree import DecisionTreeClassifier\n",
    "from sklearn.model_selection import train_test_split\n",
    "\n",
    "# Load the data\n",
    "data = pd.read_csv('../processed_data/miRNA_stage_subtype.csv')\n",
    "fold_change = pd.read_csv('../results/fold_change_results.csv')\n",
    "chi_squared = pd.read_csv('../results/chi_squared_features.csv')\n",
    "\n",
    "# Get overlapping features\n",
    "fold_change_features = set(fold_change['Unnamed: 0'][:500])  \n",
    "chi_squared_features = set(chi_squared['Feature'][:500])  \n",
    "overlapping_features = list(fold_change_features.intersection(chi_squared_features))\n",
    "\n",
    "# Filter features \n",
    "miRNA_features = [f for f in overlapping_features if f in data.columns \n",
    "                 and f not in ['stage', 'subtype']]\n",
    "\n",
    "# Prepare data\n",
    "X = data[miRNA_features]\n",
    "y = data['stage']\n",
    "\n",
    "# Split data and train model\n",
    "X_train, X_test, y_train, y_test = train_test_split(X, y, test_size=0.2)\n",
    "clf = DecisionTreeClassifier(max_depth=5)\n",
    "clf.fit(X_train, y_train)\n",
    "\n",
    "# Evaluate model\n",
    "accuracy = clf.score(X_test, y_test)\n",
    "print(f\"Baseline model accuracy: {accuracy:.2f}\")"
   ]
  },
  {
   "cell_type": "code",
   "execution_count": null,
   "metadata": {},
   "outputs": [],
   "source": []
  }
 ],
 "metadata": {
  "kernelspec": {
   "display_name": ".venv",
   "language": "python",
   "name": "python3"
  },
  "language_info": {
   "codemirror_mode": {
    "name": "ipython",
    "version": 3
   },
   "file_extension": ".py",
   "mimetype": "text/x-python",
   "name": "python",
   "nbconvert_exporter": "python",
   "pygments_lexer": "ipython3",
   "version": "3.13.0"
  }
 },
 "nbformat": 4,
 "nbformat_minor": 2
}
