{
 "cells": [
  {
   "cell_type": "markdown",
   "metadata": {},
   "source": [
    "### Import Libraries"
   ]
  },
  {
   "cell_type": "code",
   "execution_count": 1,
   "metadata": {},
   "outputs": [],
   "source": [
    "import pandas as pd\n",
    "from sklearn.model_selection import train_test_split\n",
    "from sklearn.svm import SVC\n",
    "from sklearn.metrics import classification_report, accuracy_score"
   ]
  },
  {
   "cell_type": "markdown",
   "metadata": {},
   "source": [
    "### Load the Fold-Change Results"
   ]
  },
  {
   "cell_type": "code",
   "execution_count": 2,
   "metadata": {},
   "outputs": [
    {
     "name": "stdout",
     "output_type": "stream",
     "text": [
      "       Unnamed: 0  log2_fold_change  absolute_fold_change   regulation\n",
      "0    hsa-mir-518f         15.479993             15.479993  upregulated\n",
      "1         subtype         13.808021             13.808021  upregulated\n",
      "2    hsa-mir-520e         13.290780             13.290780  upregulated\n",
      "3    hsa-mir-520d         13.166629             13.166629  upregulated\n",
      "4  hsa-mir-1283-2         12.642423             12.642423  upregulated\n"
     ]
    }
   ],
   "source": [
    "# Load fold-change results\n",
    "fold_change_data = pd.read_csv('../results/fold_change_results.csv')\n",
    "\n",
    "# Ensure the file is loaded properly\n",
    "print(fold_change_data.head())\n"
   ]
  },
  {
   "cell_type": "markdown",
   "metadata": {},
   "source": [
    "### Prepare the Data"
   ]
  },
  {
   "cell_type": "code",
   "execution_count": 4,
   "metadata": {},
   "outputs": [
    {
     "name": "stdout",
     "output_type": "stream",
     "text": [
      "Features shape: (1882, 1)\n",
      "Labels shape: (1882,)\n",
      "\n",
      "Feature sample:\n",
      "   log2_fold_change\n",
      "0         15.479993\n",
      "1         13.808021\n",
      "2         13.290780\n",
      "3         13.166629\n",
      "4         12.642423\n",
      "\n",
      "Label sample:\n",
      "0    upregulated\n",
      "1    upregulated\n",
      "2    upregulated\n",
      "3    upregulated\n",
      "4    upregulated\n",
      "Name: regulation, dtype: object\n"
     ]
    }
   ],
   "source": [
    "# Drop columns not needed for SVM classification\n",
    "# We're keeping 'log2_fold_change' as the feature and using 'regulation' as the label\n",
    "X = fold_change_data[['log2_fold_change']]  # Features: Only log2_fold_change\n",
    "y = fold_change_data['regulation']  # Labels: Regulation status (upregulated/downregulated)\n",
    "\n",
    "# Validate dimensions\n",
    "print(f\"Features shape: {X.shape}\")\n",
    "print(f\"Labels shape: {y.shape}\")\n",
    "\n",
    "# Preview the data\n",
    "print(\"\\nFeature sample:\")\n",
    "print(X.head())\n",
    "\n",
    "print(\"\\nLabel sample:\")\n",
    "print(y.head())\n"
   ]
  },
  {
   "cell_type": "markdown",
   "metadata": {},
   "source": [
    "### Train-Test Split"
   ]
  },
  {
   "cell_type": "code",
   "execution_count": 5,
   "metadata": {},
   "outputs": [
    {
     "name": "stdout",
     "output_type": "stream",
     "text": [
      "Training set: (1505, 1)\n",
      "Testing set: (377, 1)\n"
     ]
    }
   ],
   "source": [
    "# Train-test split\n",
    "X_train, X_test, y_train, y_test = train_test_split(X, y, test_size=0.2, random_state=42)\n",
    "\n",
    "print(f\"Training set: {X_train.shape}\")\n",
    "print(f\"Testing set: {X_test.shape}\")"
   ]
  },
  {
   "cell_type": "markdown",
   "metadata": {},
   "source": [
    "### Train the SVM Classifier"
   ]
  },
  {
   "cell_type": "code",
   "execution_count": 6,
   "metadata": {},
   "outputs": [],
   "source": [
    "# Initialize and train SVM\n",
    "svm_classifier = SVC(kernel='linear', random_state=42)\n",
    "svm_classifier.fit(X_train, y_train)\n",
    "\n",
    "# Predictions\n",
    "y_pred = svm_classifier.predict(X_test)\n"
   ]
  },
  {
   "cell_type": "markdown",
   "metadata": {},
   "source": [
    "### Evaluate the Model"
   ]
  },
  {
   "cell_type": "code",
   "execution_count": 7,
   "metadata": {},
   "outputs": [
    {
     "name": "stdout",
     "output_type": "stream",
     "text": [
      "Accuracy: 0.95\n",
      "\n",
      "Classification Report:\n",
      "               precision    recall  f1-score   support\n",
      "\n",
      "downregulated       0.89      1.00      0.94       146\n",
      "  upregulated       1.00      0.92      0.96       231\n",
      "\n",
      "     accuracy                           0.95       377\n",
      "    macro avg       0.95      0.96      0.95       377\n",
      " weighted avg       0.96      0.95      0.95       377\n",
      "\n"
     ]
    }
   ],
   "source": [
    "# Evaluate model performance\n",
    "accuracy = accuracy_score(y_test, y_pred)\n",
    "print(f\"Accuracy: {accuracy:.2f}\")\n",
    "\n",
    "# Detailed classification report\n",
    "print(\"\\nClassification Report:\")\n",
    "print(classification_report(y_test, y_pred))\n"
   ]
  },
  {
   "cell_type": "markdown",
   "metadata": {},
   "source": [
    "### Save Results"
   ]
  },
  {
   "cell_type": "code",
   "execution_count": 8,
   "metadata": {},
   "outputs": [
    {
     "name": "stdout",
     "output_type": "stream",
     "text": [
      "Results saved to '../results/svm_baseline_results.csv'\n"
     ]
    }
   ],
   "source": [
    "# Save predictions\n",
    "results = pd.DataFrame({'Actual': y_test, 'Predicted': y_pred})\n",
    "results.to_csv('../results/svm_baseline_results.csv', index=False)\n",
    "\n",
    "print(\"Results saved to '../results/svm_baseline_results.csv'\")\n"
   ]
  }
 ],
 "metadata": {
  "kernelspec": {
   "display_name": ".venv",
   "language": "python",
   "name": "python3"
  },
  "language_info": {
   "codemirror_mode": {
    "name": "ipython",
    "version": 3
   },
   "file_extension": ".py",
   "mimetype": "text/x-python",
   "name": "python",
   "nbconvert_exporter": "python",
   "pygments_lexer": "ipython3",
   "version": "3.13.0"
  }
 },
 "nbformat": 4,
 "nbformat_minor": 2
}
