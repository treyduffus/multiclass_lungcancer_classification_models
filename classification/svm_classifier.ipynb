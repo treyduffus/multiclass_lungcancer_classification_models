{
 "cells": [
  {
   "cell_type": "markdown",
   "metadata": {},
   "source": [
    "### Import Libraries"
   ]
  },
  {
   "cell_type": "code",
   "execution_count": 60,
   "metadata": {},
   "outputs": [],
   "source": [
    "# Data handling and preprocessing\n",
    "import pandas as pd\n",
    "from sklearn.model_selection import train_test_split\n",
    "from sklearn.preprocessing import StandardScaler\n",
    "\n",
    "# Model and evaluation\n",
    "from sklearn.svm import SVC\n",
    "from sklearn.metrics import classification_report, accuracy_score, confusion_matrix\n",
    "from sklearn.utils.class_weight import compute_class_weight\n",
    "\n",
    "# Visualization (optional, but helpful for diagnostics)\n",
    "import matplotlib.pyplot as plt\n",
    "import seaborn as sns\n",
    "\n",
    "# Logging for debugging\n",
    "import logging\n",
    "\n",
    "# Set up logging\n",
    "logging.basicConfig(level=logging.INFO, format=\"%(asctime)s - %(levelname)s - %(message)s\")\n"
   ]
  },
  {
   "cell_type": "markdown",
   "metadata": {},
   "source": [
    "### Load the Datasets"
   ]
  },
  {
   "cell_type": "code",
   "execution_count": 61,
   "metadata": {},
   "outputs": [
    {
     "name": "stderr",
     "output_type": "stream",
     "text": [
      "2025-01-24 17:41:35,530 - INFO - Fold-change data successfully loaded. Shape: (1882, 4)\n"
     ]
    },
    {
     "name": "stdout",
     "output_type": "stream",
     "text": [
      "       Unnamed: 0  log2_fold_change  absolute_fold_change   regulation\n",
      "0    hsa-mir-518f         15.479993             15.479993  upregulated\n",
      "1         subtype         13.808021             13.808021  upregulated\n",
      "2    hsa-mir-520e         13.290780             13.290780  upregulated\n",
      "3    hsa-mir-520d         13.166629             13.166629  upregulated\n",
      "4  hsa-mir-1283-2         12.642423             12.642423  upregulated\n"
     ]
    },
    {
     "name": "stderr",
     "output_type": "stream",
     "text": [
      "2025-01-24 17:41:35,776 - INFO - Processed data successfully loaded. Shape: (1091, 1883)\n"
     ]
    },
    {
     "name": "stdout",
     "output_type": "stream",
     "text": [
      "   hsa-let-7a-1  hsa-let-7a-2  hsa-let-7a-3    hsa-let-7b   hsa-let-7c  \\\n",
      "0   7314.747386   7391.483138   7334.393081  10994.201497   471.496698   \n",
      "1   9518.042994   9460.443528   9574.874468  17578.281899   785.810318   \n",
      "2   4479.976340   4387.407628   4447.955716  12394.310110   404.624244   \n",
      "3  21277.962603  21166.590502  21255.800397  15161.474118  6684.570363   \n",
      "4   8002.355461   8013.396682   8033.638922  19358.942067  1276.411235   \n",
      "\n",
      "   hsa-let-7d   hsa-let-7e  hsa-let-7f-1  hsa-let-7f-2   hsa-let-7g  ...  \\\n",
      "0  318.193106  1156.241547   3272.099771   3363.611772   442.783758  ...   \n",
      "1  358.652676   771.986446   3871.452122   3917.224498   487.829079  ...   \n",
      "2  855.241747   246.267705   1353.016896   1415.311564   416.850300  ...   \n",
      "3  503.278464  2185.922959  15012.229891  14987.262342  1107.549261  ...   \n",
      "4  765.754731   593.005616   2630.801098   2649.433160   367.580673  ...   \n",
      "\n",
      "   hsa-mir-943  hsa-mir-944  hsa-mir-95  hsa-mir-9500  hsa-mir-96  hsa-mir-98  \\\n",
      "0          0.0     0.000000    1.847031             0   40.298863   35.429417   \n",
      "1          0.0   128.562009    4.607957             0    8.601520   38.860440   \n",
      "2          0.0   161.267504    1.746579             0   33.767203   31.438430   \n",
      "3          0.0     1.683206   10.660302             0    5.049617   95.101114   \n",
      "4          0.0    97.990843    3.450382             0   22.772520   46.235116   \n",
      "\n",
      "   hsa-mir-99a   hsa-mir-99b  stage  subtype  \n",
      "0   148.602058  12118.707689      1        2  \n",
      "1   111.512567   7471.802757      1        2  \n",
      "2   168.253822  16026.613214      1        2  \n",
      "3  1416.978551  12750.562682      1        2  \n",
      "4   455.450396  14401.203493      1        2  \n",
      "\n",
      "[5 rows x 1883 columns]\n"
     ]
    }
   ],
   "source": [
    "# Load fold-change results\n",
    "fold_change_data = pd.read_csv('../results/fold_change_results.csv')\n",
    "logging.info(f\"Fold-change data successfully loaded. Shape: {fold_change_data.shape}\")\n",
    "print(fold_change_data.head())\n",
    "\n",
    "# Load processed data containing miRNA expression values and target variables\n",
    "processed_data = pd.read_csv('../processed_data/miRNA_stage_subtype.csv')\n",
    "logging.info(f\"Processed data successfully loaded. Shape: {processed_data.shape}\")\n",
    "print(processed_data.head())"
   ]
  },
  {
   "cell_type": "markdown",
   "metadata": {},
   "source": [
    "### Prepare the Data"
   ]
  },
  {
   "cell_type": "code",
   "execution_count": 67,
   "metadata": {},
   "outputs": [
    {
     "name": "stderr",
     "output_type": "stream",
     "text": [
      "2025-01-24 17:44:59,418 - INFO - Features shape: (1091, 1881)\n",
      "2025-01-24 17:44:59,419 - INFO - Labels shape: (1091,)\n"
     ]
    },
    {
     "name": "stdout",
     "output_type": "stream",
     "text": [
      "Target distribution:\n",
      "stage\n",
      "1    566\n",
      "2    308\n",
      "3    175\n",
      "4     31\n",
      "0     11\n",
      "Name: count, dtype: int64\n",
      "\n",
      "Feature sample:\n",
      "   hsa-mir-518f  hsa-mir-520e  hsa-mir-520d  hsa-mir-1283-2  hsa-mir-520h  \\\n",
      "0      0.000000           0.0      0.000000             0.0           0.0   \n",
      "1      0.307197           0.0      0.000000             0.0           0.0   \n",
      "2      0.000000           0.0      0.582193             0.0           0.0   \n",
      "3      0.000000           0.0      0.000000             0.0           0.0   \n",
      "4      0.000000           0.0      0.000000             0.0           0.0   \n",
      "\n",
      "   hsa-mir-523  hsa-mir-519d  hsa-mir-515-2  hsa-mir-524  hsa-mir-521-2  ...  \\\n",
      "0     0.000000      0.000000       0.000000     0.000000            0.0  ...   \n",
      "1     0.000000      0.153599       0.153599     0.000000            0.0  ...   \n",
      "2     0.000000      0.000000       0.000000     0.000000            0.0  ...   \n",
      "3     0.000000      0.000000       0.000000     0.280534            0.0  ...   \n",
      "4     0.230025      0.000000       0.000000     0.000000            0.0  ...   \n",
      "\n",
      "   hsa-mir-1972-2  hsa-mir-6511a-4  hsa-mir-6511a-3  hsa-mir-6511a-2  \\\n",
      "0               0                0                0                0   \n",
      "1               0                0                0                0   \n",
      "2               0                0                0                0   \n",
      "3               0                0                0                0   \n",
      "4               0                0                0                0   \n",
      "\n",
      "   hsa-mir-6511a-1  hsa-mir-649  hsa-mir-648  hsa-mir-646  hsa-mir-1183  \\\n",
      "0                0            0            0            0             0   \n",
      "1                0            0            0            0             0   \n",
      "2                0            0            0            0             0   \n",
      "3                0            0            0            0             0   \n",
      "4                0            0            0            0             0   \n",
      "\n",
      "   hsa-mir-297  \n",
      "0            0  \n",
      "1            0  \n",
      "2            0  \n",
      "3            0  \n",
      "4            0  \n",
      "\n",
      "[5 rows x 1881 columns]\n",
      "\n",
      "Label sample:\n",
      "0    1\n",
      "1    1\n",
      "2    1\n",
      "3    1\n",
      "4    1\n",
      "Name: stage, dtype: int64\n"
     ]
    }
   ],
   "source": [
    "# Select top miRNA features based on fold-change\n",
    "# top_features = fold_change_data.nlargest(50, 'log2_fold_change')['Unnamed: 0']  # Select top 50 miRNAs\n",
    "top_features = fold_change_data['Unnamed: 0']  # Select all miRNAs\n",
    "\n",
    "# Filter out non-miRNA entries (e.g., subtype, stage)\n",
    "top_features = top_features[top_features.str.startswith('hsa-')]  # Keep only miRNA names\n",
    "\n",
    "# Filter the processed data for selected miRNAs\n",
    "expression_values = processed_data[top_features]  # Use top features (miRNA names) as column selectors\n",
    "\n",
    "# Use 'stage' or 'subtype' as the target variable\n",
    "y = processed_data['stage']  # Target variable (e.g., stage or subtype)\n",
    "\n",
    "# Check for missing values in features or labels\n",
    "if expression_values.isnull().values.any() or y.isnull().values.any():\n",
    "    logging.warning(\"Missing values detected in features or labels.\")\n",
    "    print(f\"Missing values in features:\\n{expression_values.isnull().sum()}\")\n",
    "    print(f\"Missing values in labels:\\n{y.isnull().sum()}\")\n",
    "    # Handle missing values (e.g., drop rows or impute values)\n",
    "    expression_values = expression_values.dropna()\n",
    "    y = y.dropna()\n",
    "\n",
    "# Check the target distribution\n",
    "print(\"Target distribution:\")\n",
    "print(y.value_counts())\n",
    "\n",
    "# Validate shapes and log\n",
    "logging.info(f\"Features shape: {expression_values.shape}\")\n",
    "logging.info(f\"Labels shape: {y.shape}\")\n",
    "\n",
    "# Preview the data\n",
    "print(\"\\nFeature sample:\")\n",
    "print(expression_values.head())\n",
    "\n",
    "print(\"\\nLabel sample:\")\n",
    "print(y[:5])  # Show first 5 samples"
   ]
  },
  {
   "cell_type": "markdown",
   "metadata": {},
   "source": [
    "#### SMOTE for balancing the dataset"
   ]
  },
  {
   "cell_type": "code",
   "execution_count": 68,
   "metadata": {},
   "outputs": [
    {
     "name": "stderr",
     "output_type": "stream",
     "text": [
      "2025-01-24 17:45:00,544 - INFO - Training set size after SMOTE: (2264, 1881)\n",
      "2025-01-24 17:45:00,544 - INFO - Testing set size after SMOTE: (566, 1881)\n",
      "2025-01-24 17:45:00,545 - INFO - Target distribution in training set: {1: 453, 0: 453, 2: 453, 4: 453, 3: 452}\n",
      "2025-01-24 17:45:00,546 - INFO - Target distribution in testing set: {3: 114, 0: 113, 2: 113, 4: 113, 1: 113}\n"
     ]
    },
    {
     "name": "stdout",
     "output_type": "stream",
     "text": [
      "New target distribution after SMOTE:\n",
      "stage\n",
      "1    566\n",
      "3    566\n",
      "2    566\n",
      "4    566\n",
      "0    566\n",
      "Name: count, dtype: int64\n"
     ]
    }
   ],
   "source": [
    "from imblearn.over_sampling import SMOTE\n",
    "from sklearn.model_selection import train_test_split\n",
    "\n",
    "# Apply SMOTE to balance the classes\n",
    "smote = SMOTE(random_state=42)\n",
    "X_resampled, y_resampled = smote.fit_resample(expression_values, y)\n",
    "\n",
    "# Verify the new target distribution after SMOTE\n",
    "print(\"New target distribution after SMOTE:\")\n",
    "print(pd.Series(y_resampled).value_counts())\n",
    "\n",
    "# Split the resampled data into training and testing sets\n",
    "X_train, X_test, y_train, y_test = train_test_split(\n",
    "    X_resampled, y_resampled, test_size=0.2, stratify=y_resampled, random_state=42\n",
    ")\n",
    "\n",
    "# Log the new split sizes and class distributions\n",
    "logging.info(f\"Training set size after SMOTE: {X_train.shape}\")\n",
    "logging.info(f\"Testing set size after SMOTE: {X_test.shape}\")\n",
    "logging.info(f\"Target distribution in training set: {pd.Series(y_train).value_counts().to_dict()}\")\n",
    "logging.info(f\"Target distribution in testing set: {pd.Series(y_test).value_counts().to_dict()}\")\n"
   ]
  },
  {
   "cell_type": "markdown",
   "metadata": {},
   "source": [
    "### Train-Test Split"
   ]
  },
  {
   "cell_type": "code",
   "execution_count": 69,
   "metadata": {},
   "outputs": [
    {
     "name": "stderr",
     "output_type": "stream",
     "text": [
      "2025-01-24 17:45:01,260 - INFO - Training set size after scaling: (2264, 1881)\n",
      "2025-01-24 17:45:01,261 - INFO - Testing set size after scaling: (566, 1881)\n",
      "2025-01-24 17:45:01,261 - INFO - Feature scaling applied using StandardScaler.\n"
     ]
    }
   ],
   "source": [
    "from sklearn.preprocessing import StandardScaler\n",
    "\n",
    "# Scale the features\n",
    "scaler = StandardScaler()\n",
    "X_train = scaler.fit_transform(X_train)  # Scale training set\n",
    "X_test = scaler.transform(X_test)       # Scale testing set\n",
    "\n",
    "# Log scaled feature details\n",
    "logging.info(f\"Training set size after scaling: {X_train.shape}\")\n",
    "logging.info(f\"Testing set size after scaling: {X_test.shape}\")\n",
    "logging.info(f\"Feature scaling applied using StandardScaler.\")"
   ]
  },
  {
   "cell_type": "markdown",
   "metadata": {},
   "source": [
    "### Train the SVM Classifier"
   ]
  },
  {
   "cell_type": "code",
   "execution_count": 70,
   "metadata": {},
   "outputs": [
    {
     "name": "stderr",
     "output_type": "stream",
     "text": [
      "2025-01-24 17:45:02,067 - INFO - Training the SVM classifier with RBF kernel...\n",
      "2025-01-24 17:45:05,642 - INFO - SVM training completed.\n",
      "2025-01-24 17:45:05,643 - INFO - Making predictions on the test set...\n",
      "2025-01-24 17:45:06,828 - INFO - Predictions completed.\n",
      "2025-01-24 17:45:06,828 - INFO - Model parameters: Kernel: rbf, Class Weight: balanced\n"
     ]
    }
   ],
   "source": [
    "from sklearn.svm import SVC\n",
    "\n",
    "# Initialize SVM with RBF kernel and balanced class weights\n",
    "svm_classifier = SVC(kernel='rbf', class_weight='balanced', random_state=42)\n",
    "\n",
    "# Train the classifier\n",
    "logging.info(\"Training the SVM classifier with RBF kernel...\")\n",
    "svm_classifier.fit(X_train, y_train)\n",
    "logging.info(\"SVM training completed.\")\n",
    "\n",
    "# Make predictions\n",
    "logging.info(\"Making predictions on the test set...\")\n",
    "y_pred = svm_classifier.predict(X_test)\n",
    "logging.info(\"Predictions completed.\")\n",
    "\n",
    "# Log model parameters\n",
    "logging.info(f\"Model parameters: Kernel: {svm_classifier.kernel}, Class Weight: {svm_classifier.class_weight}\")"
   ]
  },
  {
   "cell_type": "markdown",
   "metadata": {},
   "source": [
    "### Evaluate the Model"
   ]
  },
  {
   "cell_type": "code",
   "execution_count": 71,
   "metadata": {},
   "outputs": [
    {
     "name": "stderr",
     "output_type": "stream",
     "text": [
      "2025-01-24 17:45:06,838 - INFO - Model Accuracy: 0.87\n",
      "2025-01-24 17:45:06,847 - INFO - Confusion Matrix:\n"
     ]
    },
    {
     "name": "stdout",
     "output_type": "stream",
     "text": [
      "Accuracy: 0.87\n",
      "\n",
      "Classification Report:\n",
      "              precision    recall  f1-score   support\n",
      "\n",
      "           0       1.00      1.00      1.00       113\n",
      "           1       0.74      0.65      0.69       113\n",
      "           2       0.74      0.82      0.78       113\n",
      "           3       0.90      0.90      0.90       114\n",
      "           4       1.00      1.00      1.00       113\n",
      "\n",
      "    accuracy                           0.87       566\n",
      "   macro avg       0.87      0.87      0.87       566\n",
      "weighted avg       0.87      0.87      0.87       566\n",
      "\n",
      "[[113   0   0   0   0]\n",
      " [  0  73  30  10   0]\n",
      " [  0  18  93   2   0]\n",
      " [  0   8   3 103   0]\n",
      " [  0   0   0   0 113]]\n"
     ]
    },
    {
     "data": {
      "image/png": "[encoded data removed]",
      "text/plain": [
       "<Figure size 800x600 with 2 Axes>"
      ]
     },
     "metadata": {},
     "output_type": "display_data"
    }
   ],
   "source": [
    "from sklearn.metrics import accuracy_score, classification_report, confusion_matrix\n",
    "import seaborn as sns\n",
    "import matplotlib.pyplot as plt\n",
    "\n",
    "# Map numerical labels back to class names if LabelEncoder was used\n",
    "if 'le' in locals() and hasattr(le, 'classes_'):  # Check if LabelEncoder exists\n",
    "    target_names = le.classes_\n",
    "else:\n",
    "    target_names = [str(cls) for cls in sorted(set(y_test))]  # Fallback to numeric labels as strings\n",
    "\n",
    "# Evaluate model accuracy\n",
    "accuracy = accuracy_score(y_test, y_pred)\n",
    "logging.info(f\"Model Accuracy: {accuracy:.2f}\")\n",
    "print(f\"Accuracy: {accuracy:.2f}\")\n",
    "\n",
    "# Generate and print detailed classification report\n",
    "print(\"\\nClassification Report:\")\n",
    "report = classification_report(y_test, y_pred, target_names=target_names)\n",
    "print(report)\n",
    "\n",
    "# Generate confusion matrix\n",
    "cm = confusion_matrix(y_test, y_pred)\n",
    "logging.info(\"Confusion Matrix:\")\n",
    "print(cm)\n",
    "\n",
    "# Plot confusion matrix\n",
    "plt.figure(figsize=(8, 6))\n",
    "sns.heatmap(cm, annot=True, fmt='d', cmap='Blues', xticklabels=target_names, yticklabels=target_names)\n",
    "plt.xlabel('Predicted')\n",
    "plt.ylabel('Actual')\n",
    "plt.title('Confusion Matrix')\n",
    "plt.show()\n"
   ]
  },
  {
   "cell_type": "markdown",
   "metadata": {},
   "source": [
    "### Save Results"
   ]
  },
  {
   "cell_type": "code",
   "execution_count": 72,
   "metadata": {},
   "outputs": [
    {
     "name": "stderr",
     "output_type": "stream",
     "text": [
      "2025-01-24 17:46:46,958 - INFO - Results saved successfully to ../results/svm_baseline_results.csv\n",
      "2025-01-24 17:46:46,960 - INFO - Experiment metadata saved successfully.\n"
     ]
    },
    {
     "name": "stdout",
     "output_type": "stream",
     "text": [
      "Results saved to ../results/svm_baseline_results.csv\n",
      "Metadata saved to ../results/experiment_metadata.json\n"
     ]
    }
   ],
   "source": [
    "import os\n",
    "import json\n",
    "\n",
    "# Save predictions and actual labels\n",
    "results = pd.DataFrame({\n",
    "    'Actual': y_test,\n",
    "    'Predicted': y_pred\n",
    "})\n",
    "\n",
    "# Add confidence scores if available\n",
    "if hasattr(svm_classifier, 'decision_function'):\n",
    "    # Get confidence scores for all classes\n",
    "    confidence_scores = svm_classifier.decision_function(X_test)\n",
    "    \n",
    "    # Save the confidence score for the predicted class\n",
    "    results['Confidence'] = [scores[pred] for scores, pred in zip(confidence_scores, y_pred)]\n",
    "\n",
    "# Save results to CSV\n",
    "output_path = '../results/svm_baseline_results.csv'\n",
    "try:\n",
    "    results.to_csv(output_path, index=False)\n",
    "    logging.info(f\"Results saved successfully to {output_path}\")\n",
    "    print(f\"Results saved to {output_path}\")\n",
    "except Exception as e:\n",
    "    logging.error(f\"Failed to save results: {e}\")\n",
    "    print(f\"Error: {e}\")\n",
    "\n",
    "# Optional: Save metadata for tracking experiments\n",
    "metadata = {\n",
    "    'Training Set Size': X_train.shape[0],\n",
    "    'Test Set Size': X_test.shape[0],\n",
    "    'Kernel': svm_classifier.kernel,\n",
    "    'Class Weights': svm_classifier.class_weight,\n",
    "    'Accuracy': accuracy_score(y_test, y_pred)  # Add overall accuracy for completeness\n",
    "}\n",
    "metadata_path = '../results/experiment_metadata.json'\n",
    "try:\n",
    "    with open(metadata_path, 'w') as f:\n",
    "        json.dump(metadata, f, indent=4)\n",
    "        logging.info(\"Experiment metadata saved successfully.\")\n",
    "        print(f\"Metadata saved to {metadata_path}\")\n",
    "except Exception as e:\n",
    "    logging.error(f\"Failed to save metadata: {e}\")\n",
    "    print(f\"Error: {e}\")"
   ]
  }
 ],
 "metadata": {
  "kernelspec": {
   "display_name": ".venv",
   "language": "python",
   "name": "python3"
  },
  "language_info": {
   "codemirror_mode": {
    "name": "ipython",
    "version": 3
   },
   "file_extension": ".py",
   "mimetype": "text/x-python",
   "name": "python",
   "nbconvert_exporter": "python",
   "pygments_lexer": "ipython3",
   "version": "3.13.0"
  }
 },
 "nbformat": 4,
 "nbformat_minor": 2
}
