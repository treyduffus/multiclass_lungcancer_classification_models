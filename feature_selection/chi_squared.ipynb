{
 "cells": [
  {
   "cell_type": "markdown",
   "metadata": {
    "id": "SK0wnXGH6s87"
   },
   "source": [
    "#### Group 33, Florida Atlantic University </br> Chi-Squared Feature Selection for miRNA Data"
   ]
  },
  {
   "cell_type": "markdown",
   "metadata": {
    "id": "RZ1msyZp6s87"
   },
   "source": [
    "> Import Libraries"
   ]
  },
  {
   "cell_type": "code",
   "execution_count": 9,
   "metadata": {
    "id": "bvgA7--36s88"
   },
   "outputs": [],
   "source": [
    "import pandas as pd\n",
    "import numpy as np\n",
    "from sklearn.feature_selection import SelectKBest, chi2\n",
    "from sklearn.preprocessing import MinMaxScaler"
   ]
  },
  {
   "cell_type": "markdown",
   "metadata": {
    "id": "B5n-iB1P6s88"
   },
   "source": [
    "> Load Dataset"
   ]
  },
  {
   "cell_type": "code",
   "execution_count": 10,
   "metadata": {
    "colab": {
     "base_uri": "https://localhost:8080/"
    },
    "id": "9CWHAWVa6s89",
    "outputId": "0a2cf4d2-6a0e-47e7-f9ec-5fe314517d51"
   },
   "outputs": [
    {
     "name": "stdout",
     "output_type": "stream",
     "text": [
      "Dataset columns: Index(['hsa-let-7a-1', 'hsa-let-7a-2', 'hsa-let-7a-3', 'hsa-let-7b',\n",
      "       'hsa-let-7c', 'hsa-let-7d', 'hsa-let-7e', 'hsa-let-7f-1',\n",
      "       'hsa-let-7f-2', 'hsa-let-7g',\n",
      "       ...\n",
      "       'hsa-mir-943', 'hsa-mir-944', 'hsa-mir-95', 'hsa-mir-9500',\n",
      "       'hsa-mir-96', 'hsa-mir-98', 'hsa-mir-99a', 'hsa-mir-99b', 'stage',\n",
      "       'subtype'],\n",
      "      dtype='object', length=1883)\n",
      "Dataset shape: (1091, 1883)\n"
     ]
    }
   ],
   "source": [
    "labeled_miRNA_data = pd.read_csv('../processed_data/miRNA_stage_subtype.csv')\n",
    "assert not labeled_miRNA_data.isna().any().any(), \"NaN values detected in input data\"\n",
    "print(\"Dataset columns:\", labeled_miRNA_data.columns)\n",
    "print(\"Dataset shape:\", labeled_miRNA_data.shape)"
   ]
  },
  {
   "cell_type": "markdown",
   "metadata": {
    "id": "kPP5r2xV6s89"
   },
   "source": [
    "> Separate Features and Target"
   ]
  },
  {
   "cell_type": "code",
   "execution_count": 11,
   "metadata": {
    "colab": {
     "base_uri": "https://localhost:8080/"
    },
    "id": "J89yTkz_6s89",
    "outputId": "f16af480-d920-4533-a1d8-9912e83de062"
   },
   "outputs": [
    {
     "name": "stdout",
     "output_type": "stream",
     "text": [
      "Shape of features (X): (1091, 1881)\n",
      "Shape of target labels (y): (1091,)\n"
     ]
    }
   ],
   "source": [
    "X = labeled_miRNA_data.iloc[:, :-2]  # Exclude last two columns, assuming they are 'stage' & 'subtype'\n",
    "y = labeled_miRNA_data['stage']  # Target variable\n",
    "\n",
    "print(\"Shape of features (X):\", X.shape)\n",
    "print(\"Shape of target labels (y):\", y.shape)"
   ]
  },
  {
   "cell_type": "markdown",
   "metadata": {
    "id": "PBsytkPO6s89"
   },
   "source": [
    "> Normalize Features"
   ]
  },
  {
   "cell_type": "code",
   "execution_count": 12,
   "metadata": {
    "colab": {
     "base_uri": "https://localhost:8080/"
    },
    "id": "Ai-Tpz1x6s89",
    "outputId": "38134efe-7cc0-4f56-e57c-5baef2fa5d1d"
   },
   "outputs": [
    {
     "name": "stdout",
     "output_type": "stream",
     "text": [
      "Normalized features:\n",
      "   hsa-let-7a-1  hsa-let-7a-2  hsa-let-7a-3  hsa-let-7b  hsa-let-7c  \\\n",
      "0      0.153200      0.154740      0.151317    0.038404    0.013304   \n",
      "1      0.212347      0.210383      0.211152    0.063621    0.024217   \n",
      "2      0.077101      0.073947      0.074232    0.043767    0.010982   \n",
      "3      0.528039      0.525213      0.523103    0.054365    0.229020   \n",
      "4      0.171658      0.171466      0.169991    0.070441    0.041250   \n",
      "\n",
      "   hsa-let-7d  hsa-let-7e  hsa-let-7f-1  hsa-let-7f-2  hsa-let-7g  ...  \\\n",
      "0    0.008747    0.155592      0.108634      0.109582    0.160672  ...   \n",
      "1    0.010103    0.099468      0.130015      0.129169    0.183103  ...   \n",
      "2    0.026749    0.022682      0.040175      0.040651    0.147759  ...   \n",
      "3    0.014951    0.305986      0.527441      0.520830    0.491702  ...   \n",
      "4    0.023749    0.073326      0.085757      0.084314    0.123224  ...   \n",
      "\n",
      "   hsa-mir-941-5  hsa-mir-942  hsa-mir-943  hsa-mir-944  hsa-mir-95  \\\n",
      "0            0.0     0.026466          0.0     0.000000    0.012193   \n",
      "1            0.0     0.061469          0.0     0.093662    0.030420   \n",
      "2            0.0     0.025329          0.0     0.117489    0.011530   \n",
      "3            0.0     0.061481          0.0     0.001226    0.070375   \n",
      "4            0.0     0.089542          0.0     0.071390    0.022778   \n",
      "\n",
      "   hsa-mir-9500  hsa-mir-96  hsa-mir-98  hsa-mir-99a  hsa-mir-99b  \n",
      "0           0.0    0.172729    0.095439     0.021040     0.025199  \n",
      "1           0.0    0.036868    0.104682     0.014977     0.011080  \n",
      "2           0.0    0.144733    0.084689     0.024252     0.037072  \n",
      "3           0.0    0.021644    0.256183     0.228389     0.027118  \n",
      "4           0.0    0.097608    0.124548     0.071202     0.032134  \n",
      "\n",
      "[5 rows x 1881 columns]\n"
     ]
    }
   ],
   "source": [
    "scaler = MinMaxScaler(feature_range=(0, 1))\n",
    "X_normalized = pd.DataFrame(\n",
    "    scaler.fit_transform(X),\n",
    "    columns=X.columns\n",
    ")\n",
    "assert not X_normalized.isna().any().any(), \"NaN values detected after normalization\"\n",
    "assert (X_normalized >= 0).all().all(), \"Negative values detected after normalization\"\n",
    "print(\"Normalized features:\")\n",
    "print(X_normalized.head())"
   ]
  },
  {
   "cell_type": "markdown",
   "metadata": {
    "id": "FKLLASwE6s89"
   },
   "source": [
    "> Perform Chi-Squared Feature Selection\n"
   ]
  },
  {
   "cell_type": "code",
   "execution_count": 13,
   "metadata": {
    "colab": {
     "base_uri": "https://localhost:8080/"
    },
    "id": "7dt2UdXr6s89",
    "outputId": "45ecb73c-6e0a-4824-b4f3-0b32be6ba657"
   },
   "outputs": [
    {
     "name": "stdout",
     "output_type": "stream",
     "text": [
      "Shape of reduced features (X_kbest): (1091, 10)\n"
     ]
    }
   ],
   "source": [
    "chi2_selector = SelectKBest(score_func=chi2, k=10)\n",
    "X_kbest = chi2_selector.fit_transform(X_normalized, y)\n",
    "print(\"Shape of reduced features (X_kbest):\", X_kbest.shape)"
   ]
  },
  {
   "cell_type": "markdown",
   "metadata": {
    "id": "lYjtca-46s8-"
   },
   "source": [
    "> Create Ranked Feature DataFrame\n"
   ]
  },
  {
   "cell_type": "code",
   "execution_count": 14,
   "metadata": {
    "colab": {
     "base_uri": "https://localhost:8080/"
    },
    "id": "9sifTjVg6s8-",
    "outputId": "659e7f84-0059-4da8-9f0a-bf480e7a5c24"
   },
   "outputs": [
    {
     "name": "stdout",
     "output_type": "stream",
     "text": [
      "Ranked features:\n",
      "           Feature      Score\n",
      "1367   hsa-mir-571  71.190977\n",
      "944   hsa-mir-4663  38.356704\n",
      "659   hsa-mir-3973  34.193548\n",
      "1824  hsa-mir-8082  34.193548\n",
      "881   hsa-mir-451b  18.508169\n"
     ]
    }
   ],
   "source": [
    "chi2_scores = pd.DataFrame({\n",
    "    'Feature': X.columns,\n",
    "    'Score': chi2_selector.scores_\n",
    "})\n",
    "\n",
    "# Sort by score in descending order\n",
    "chi2_ranked_df = chi2_scores.sort_values(by='Score', ascending=False)\n",
    "\n",
    "# Ensure feature names are standardized\n",
    "chi2_ranked_df['Feature'] = chi2_ranked_df['Feature'].astype(str).str.strip()\n",
    "\n",
    "print(\"Ranked features:\")\n",
    "print(chi2_ranked_df.head())"
   ]
  },
  {
   "cell_type": "markdown",
   "metadata": {
    "id": "YVhfttR96s8-"
   },
   "source": [
    "> Handle NaN Scores"
   ]
  },
  {
   "cell_type": "code",
   "execution_count": 15,
   "metadata": {
    "colab": {
     "base_uri": "https://localhost:8080/"
    },
    "id": "Cs4W5hir6s8-",
    "outputId": "c8a1fd1c-316a-430f-d3fa-83edb2e9c8b0"
   },
   "outputs": [
    {
     "name": "stdout",
     "output_type": "stream",
     "text": [
      "Features with NaN scores:\n",
      "             Feature  Score\n",
      "18    hsa-mir-103b-1    NaN\n",
      "19    hsa-mir-103b-2    NaN\n",
      "32      hsa-mir-1183    NaN\n",
      "41      hsa-mir-1200    NaN\n",
      "42      hsa-mir-1202    NaN\n",
      "...              ...    ...\n",
      "1868   hsa-mir-941-2    NaN\n",
      "1869   hsa-mir-941-3    NaN\n",
      "1870   hsa-mir-941-4    NaN\n",
      "1871   hsa-mir-941-5    NaN\n",
      "1876    hsa-mir-9500    NaN\n",
      "\n",
      "[245 rows x 2 columns]\n",
      "Cleaned ranked features:\n",
      "           Feature      Score\n",
      "1367   hsa-mir-571  71.190977\n",
      "944   hsa-mir-4663  38.356704\n",
      "659   hsa-mir-3973  34.193548\n",
      "1824  hsa-mir-8082  34.193548\n",
      "881   hsa-mir-451b  18.508169\n"
     ]
    }
   ],
   "source": [
    "print(\"Features with NaN scores:\")\n",
    "print(chi2_ranked_df[chi2_ranked_df['Score'].isna()])\n",
    "\n",
    "chi2_ranked_df.dropna(subset=['Score'], inplace=True)  # Drop rows with NaN scores\n",
    "print(\"Cleaned ranked features:\")\n",
    "print(chi2_ranked_df.head())"
   ]
  },
  {
   "cell_type": "markdown",
   "metadata": {
    "id": "lht-_Wsi6s8-"
   },
   "source": [
    "> Save and Display Results"
   ]
  },
  {
   "cell_type": "code",
   "execution_count": 16,
   "metadata": {
    "colab": {
     "base_uri": "https://localhost:8080/"
    },
    "id": "IXzn5EtJ6s8-",
    "outputId": "b4ed1a66-00c6-45f3-8538-8a49417a0f15"
   },
   "outputs": [
    {
     "name": "stdout",
     "output_type": "stream",
     "text": [
      "Saved chi-squared ranked features to '../results/chi_squared_features.csv'\n"
     ]
    }
   ],
   "source": [
    "chi2_ranked_df.to_csv('./chi_squared_features.csv', index=False)\n",
    "print(\"Saved chi-squared ranked features to '../results/chi_squared_features.csv'\")"
   ]
  }
 ],
 "metadata": {
  "colab": {
   "provenance": []
  },
  "kernelspec": {
   "display_name": ".venv",
   "language": "python",
   "name": "python3"
  },
  "language_info": {
   "codemirror_mode": {
    "name": "ipython",
    "version": 3
   },
   "file_extension": ".py",
   "mimetype": "text/x-python",
   "name": "python",
   "nbconvert_exporter": "python",
   "pygments_lexer": "ipython3",
   "version": "3.12.3"
  }
 },
 "nbformat": 4,
 "nbformat_minor": 0
}
