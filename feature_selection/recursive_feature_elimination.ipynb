{
 "cells": [
  {
   "cell_type": "code",
   "execution_count": null,
   "metadata": {},
   "outputs": [],
   "source": [
    "# Group 33, Florida Atlantic University\n",
    "# Recursive Feature Elimination model\n",
    "# 1/14/25\n",
    "\n",
    "import numpy as np\n",
    "import pandas as pd\n",
    "import seaborn as sns\n",
    "import matplotlib.pyplot as plt\n",
    "from sklearn.feature_selection import RFE\n",
    "from sklearn.preprocessing import StandardScaler\n",
    "from sklearn.linear_model import LogisticRegression\n",
    "\n",
    "# Extracting Data \n",
    "labeled_miRNA_data = pd.read_csv('../processed_data/miRNA_stage_subtype.csv')"
   ]
  },
  {
   "cell_type": "code",
   "execution_count": null,
   "metadata": {},
   "outputs": [
    {
     "data": {
      "text/html": [
       "<div>\n",
       "<style scoped>\n",
       "    .dataframe tbody tr th:only-of-type {\n",
       "        vertical-align: middle;\n",
       "    }\n",
       "\n",
       "    .dataframe tbody tr th {\n",
       "        vertical-align: top;\n",
       "    }\n",
       "\n",
       "    .dataframe thead th {\n",
       "        text-align: right;\n",
       "    }\n",
       "</style>\n",
       "<table border=\"1\" class=\"dataframe\">\n",
       "  <thead>\n",
       "    <tr style=\"text-align: right;\">\n",
       "      <th></th>\n",
       "      <th>hsa-let-7a-1</th>\n",
       "      <th>hsa-let-7a-2</th>\n",
       "      <th>hsa-let-7a-3</th>\n",
       "      <th>hsa-let-7b</th>\n",
       "      <th>hsa-let-7c</th>\n",
       "      <th>hsa-let-7d</th>\n",
       "      <th>hsa-let-7e</th>\n",
       "      <th>hsa-let-7f-1</th>\n",
       "      <th>hsa-let-7f-2</th>\n",
       "      <th>hsa-let-7g</th>\n",
       "      <th>...</th>\n",
       "      <th>hsa-mir-943</th>\n",
       "      <th>hsa-mir-944</th>\n",
       "      <th>hsa-mir-95</th>\n",
       "      <th>hsa-mir-9500</th>\n",
       "      <th>hsa-mir-96</th>\n",
       "      <th>hsa-mir-98</th>\n",
       "      <th>hsa-mir-99a</th>\n",
       "      <th>hsa-mir-99b</th>\n",
       "      <th>stage</th>\n",
       "      <th>subtype</th>\n",
       "    </tr>\n",
       "  </thead>\n",
       "  <tbody>\n",
       "    <tr>\n",
       "      <th>0</th>\n",
       "      <td>7314.747386</td>\n",
       "      <td>7391.483138</td>\n",
       "      <td>7334.393081</td>\n",
       "      <td>10994.201497</td>\n",
       "      <td>471.496698</td>\n",
       "      <td>318.193106</td>\n",
       "      <td>1156.241547</td>\n",
       "      <td>3272.099771</td>\n",
       "      <td>3363.611772</td>\n",
       "      <td>442.783758</td>\n",
       "      <td>...</td>\n",
       "      <td>0.0</td>\n",
       "      <td>0.000000</td>\n",
       "      <td>1.847031</td>\n",
       "      <td>0</td>\n",
       "      <td>40.298863</td>\n",
       "      <td>35.429417</td>\n",
       "      <td>148.602058</td>\n",
       "      <td>12118.707689</td>\n",
       "      <td>1</td>\n",
       "      <td>2</td>\n",
       "    </tr>\n",
       "    <tr>\n",
       "      <th>1</th>\n",
       "      <td>9518.042994</td>\n",
       "      <td>9460.443528</td>\n",
       "      <td>9574.874468</td>\n",
       "      <td>17578.281899</td>\n",
       "      <td>785.810318</td>\n",
       "      <td>358.652676</td>\n",
       "      <td>771.986446</td>\n",
       "      <td>3871.452122</td>\n",
       "      <td>3917.224498</td>\n",
       "      <td>487.829079</td>\n",
       "      <td>...</td>\n",
       "      <td>0.0</td>\n",
       "      <td>128.562009</td>\n",
       "      <td>4.607957</td>\n",
       "      <td>0</td>\n",
       "      <td>8.601520</td>\n",
       "      <td>38.860440</td>\n",
       "      <td>111.512567</td>\n",
       "      <td>7471.802757</td>\n",
       "      <td>1</td>\n",
       "      <td>2</td>\n",
       "    </tr>\n",
       "    <tr>\n",
       "      <th>2</th>\n",
       "      <td>4479.976340</td>\n",
       "      <td>4387.407628</td>\n",
       "      <td>4447.955716</td>\n",
       "      <td>12394.310110</td>\n",
       "      <td>404.624244</td>\n",
       "      <td>855.241747</td>\n",
       "      <td>246.267705</td>\n",
       "      <td>1353.016896</td>\n",
       "      <td>1415.311564</td>\n",
       "      <td>416.850300</td>\n",
       "      <td>...</td>\n",
       "      <td>0.0</td>\n",
       "      <td>161.267504</td>\n",
       "      <td>1.746579</td>\n",
       "      <td>0</td>\n",
       "      <td>33.767203</td>\n",
       "      <td>31.438430</td>\n",
       "      <td>168.253822</td>\n",
       "      <td>16026.613214</td>\n",
       "      <td>1</td>\n",
       "      <td>2</td>\n",
       "    </tr>\n",
       "    <tr>\n",
       "      <th>3</th>\n",
       "      <td>21277.962603</td>\n",
       "      <td>21166.590502</td>\n",
       "      <td>21255.800397</td>\n",
       "      <td>15161.474118</td>\n",
       "      <td>6684.570363</td>\n",
       "      <td>503.278464</td>\n",
       "      <td>2185.922959</td>\n",
       "      <td>15012.229891</td>\n",
       "      <td>14987.262342</td>\n",
       "      <td>1107.549261</td>\n",
       "      <td>...</td>\n",
       "      <td>0.0</td>\n",
       "      <td>1.683206</td>\n",
       "      <td>10.660302</td>\n",
       "      <td>0</td>\n",
       "      <td>5.049617</td>\n",
       "      <td>95.101114</td>\n",
       "      <td>1416.978551</td>\n",
       "      <td>12750.562682</td>\n",
       "      <td>1</td>\n",
       "      <td>2</td>\n",
       "    </tr>\n",
       "    <tr>\n",
       "      <th>4</th>\n",
       "      <td>8002.355461</td>\n",
       "      <td>8013.396682</td>\n",
       "      <td>8033.638922</td>\n",
       "      <td>19358.942067</td>\n",
       "      <td>1276.411235</td>\n",
       "      <td>765.754731</td>\n",
       "      <td>593.005616</td>\n",
       "      <td>2630.801098</td>\n",
       "      <td>2649.433160</td>\n",
       "      <td>367.580673</td>\n",
       "      <td>...</td>\n",
       "      <td>0.0</td>\n",
       "      <td>97.990843</td>\n",
       "      <td>3.450382</td>\n",
       "      <td>0</td>\n",
       "      <td>22.772520</td>\n",
       "      <td>46.235116</td>\n",
       "      <td>455.450396</td>\n",
       "      <td>14401.203493</td>\n",
       "      <td>1</td>\n",
       "      <td>2</td>\n",
       "    </tr>\n",
       "  </tbody>\n",
       "</table>\n",
       "<p>5 rows × 1883 columns</p>\n",
       "</div>"
      ],
      "text/plain": [
       "   hsa-let-7a-1  hsa-let-7a-2  hsa-let-7a-3    hsa-let-7b   hsa-let-7c  \\\n",
       "0   7314.747386   7391.483138   7334.393081  10994.201497   471.496698   \n",
       "1   9518.042994   9460.443528   9574.874468  17578.281899   785.810318   \n",
       "2   4479.976340   4387.407628   4447.955716  12394.310110   404.624244   \n",
       "3  21277.962603  21166.590502  21255.800397  15161.474118  6684.570363   \n",
       "4   8002.355461   8013.396682   8033.638922  19358.942067  1276.411235   \n",
       "\n",
       "   hsa-let-7d   hsa-let-7e  hsa-let-7f-1  hsa-let-7f-2   hsa-let-7g  ...  \\\n",
       "0  318.193106  1156.241547   3272.099771   3363.611772   442.783758  ...   \n",
       "1  358.652676   771.986446   3871.452122   3917.224498   487.829079  ...   \n",
       "2  855.241747   246.267705   1353.016896   1415.311564   416.850300  ...   \n",
       "3  503.278464  2185.922959  15012.229891  14987.262342  1107.549261  ...   \n",
       "4  765.754731   593.005616   2630.801098   2649.433160   367.580673  ...   \n",
       "\n",
       "   hsa-mir-943  hsa-mir-944  hsa-mir-95  hsa-mir-9500  hsa-mir-96  hsa-mir-98  \\\n",
       "0          0.0     0.000000    1.847031             0   40.298863   35.429417   \n",
       "1          0.0   128.562009    4.607957             0    8.601520   38.860440   \n",
       "2          0.0   161.267504    1.746579             0   33.767203   31.438430   \n",
       "3          0.0     1.683206   10.660302             0    5.049617   95.101114   \n",
       "4          0.0    97.990843    3.450382             0   22.772520   46.235116   \n",
       "\n",
       "   hsa-mir-99a   hsa-mir-99b  stage  subtype  \n",
       "0   148.602058  12118.707689      1        2  \n",
       "1   111.512567   7471.802757      1        2  \n",
       "2   168.253822  16026.613214      1        2  \n",
       "3  1416.978551  12750.562682      1        2  \n",
       "4   455.450396  14401.203493      1        2  \n",
       "\n",
       "[5 rows x 1883 columns]"
      ]
     },
     "execution_count": 2,
     "metadata": {},
     "output_type": "execute_result"
    }
   ],
   "source": [
    "labeled_miRNA_data.head(5)"
   ]
  },
  {
   "cell_type": "code",
   "execution_count": null,
   "metadata": {},
   "outputs": [
    {
     "name": "stdout",
     "output_type": "stream",
     "text": [
      "(1091, 1883)\n"
     ]
    }
   ],
   "source": [
    "print(labeled_miRNA_data.shape)"
   ]
  },
  {
   "cell_type": "markdown",
   "metadata": {},
   "source": [
    "# Preprocessing"
   ]
  },
  {
   "cell_type": "code",
   "execution_count": null,
   "metadata": {},
   "outputs": [],
   "source": [
    "# Separating data from labels\n",
    "pos_neg_labels = labeled_miRNA_data.iloc[:, -2]  # Binary cancer diagnosis (0 or 1)\n",
    "stage_labels = labeled_miRNA_data.iloc[:, -3]  # Stage classification\n",
    "subtype_labels = labeled_miRNA_data.iloc[:, -1]  # Subtype classification\n",
    "\n",
    "# Condensing stage information into a general diagnosis (0 = healthy, 1 = cancer)\n",
    "pos_neg_labels = pos_neg_labels.apply(lambda x: 1 if x > 1 else x)\n",
    "\n",
    "# Extract only miRNA feature data\n",
    "miRNA_data = labeled_miRNA_data.iloc[:, :-3]"
   ]
  },
  {
   "cell_type": "code",
   "execution_count": null,
   "metadata": {},
   "outputs": [
    {
     "name": "stdout",
     "output_type": "stream",
     "text": [
      "miRNA data shape: (1091, 1880)\n",
      "Stage label distribution:\n",
      "hsa-mir-99b\n",
      "23146.607246    1\n",
      "12118.707689    1\n",
      "7471.802757     1\n",
      "27175.592549    1\n",
      "23838.524323    1\n",
      "               ..\n",
      "19091.961442    1\n",
      "39609.280134    1\n",
      "19807.131075    1\n",
      "14401.203493    1\n",
      "12750.562682    1\n",
      "Name: count, Length: 1091, dtype: int64\n",
      "Subtype label distribution:\n",
      "subtype\n",
      "1    560\n",
      "2    519\n",
      "0     11\n",
      "4      1\n",
      "Name: count, dtype: int64\n"
     ]
    }
   ],
   "source": [
    "# Logistic Regression responds better to scaled data\n",
    "scaler = StandardScaler()\n",
    "miRNA_data_scaled_np = scaler.fit_transform(miRNA_data)\n",
    "\n",
    "# Convert back to DataFrame\n",
    "miRNA_data_scaled = pd.DataFrame(miRNA_data_scaled_np, columns=miRNA_data.columns)\n",
    "\n",
    "# Confirm transformations\n",
    "print(f\"miRNA data shape: {miRNA_data_scaled.shape}\")\n",
    "print(f\"Stage label distribution:\\n{stage_labels.value_counts()}\")\n",
    "print(f\"Subtype label distribution:\\n{subtype_labels.value_counts()}\")"
   ]
  },
  {
   "cell_type": "markdown",
   "metadata": {},
   "source": [
    "# Diagnosis level feature selection\n",
    "### i.e negative vs posistive cases"
   ]
  },
  {
   "cell_type": "code",
   "execution_count": null,
   "metadata": {},
   "outputs": [],
   "source": [
    "# Define Logistic Regression model for RFE\n",
    "estimator_pos_neg = LogisticRegression(solver='lbfgs', max_iter=2000, class_weight='balanced')\n",
    "\n",
    "# Perform RFE with more flexibility\n",
    "selector_pos_neg = RFE(estimator_pos_neg, n_features_to_select=50, step=5)\n",
    "selector_pos_neg = selector_pos_neg.fit(miRNA_data_scaled, pos_neg_labels)  # Use DataFrame, not NumPy array"
   ]
  },
  {
   "cell_type": "code",
   "execution_count": null,
   "metadata": {},
   "outputs": [
    {
     "name": "stdout",
     "output_type": "stream",
     "text": [
      "Number of selected features: 50\n"
     ]
    }
   ],
   "source": [
    "# print(len(selector_pos_neg.support_))\n",
    "print(f\"Number of selected features: {sum(selector_pos_neg.support_)}\")"
   ]
  },
  {
   "cell_type": "code",
   "execution_count": null,
   "metadata": {},
   "outputs": [],
   "source": [
    "def displayRankedFeatures(selector, disp_string, save_path):\n",
    "    top_features_mask = selector.support_\n",
    "    top_features_indices = [i for i, selected in enumerate(top_features_mask) if selected]\n",
    "\n",
    "    print(disp_string)\n",
    "    \n",
    "    selected_features = [miRNA_list[idx] for idx in top_features_indices]  # Get actual feature names\n",
    "    print(\"\\n\".join(selected_features))\n",
    "\n",
    "    # Save actual feature names instead of boolean values\n",
    "    feature_dataframe = pd.DataFrame({'Feature': selected_features})\n",
    "    feature_dataframe.to_csv(save_path, index=False)\n",
    "    print(f\"Saved RFE results to: {save_path}\")"
   ]
  },
  {
   "cell_type": "code",
   "execution_count": null,
   "metadata": {},
   "outputs": [
    {
     "name": "stdout",
     "output_type": "stream",
     "text": [
      "Top selected features for general diagnosis of lung cancer\n",
      "hsa-mir-1275\n",
      "hsa-mir-1294\n",
      "hsa-mir-135a-1\n",
      "hsa-mir-181b-1\n",
      "hsa-mir-186\n",
      "hsa-mir-193b\n",
      "hsa-mir-195\n",
      "hsa-mir-19a\n",
      "hsa-mir-218-1\n",
      "hsa-mir-2355\n",
      "hsa-mir-3125\n",
      "hsa-mir-3175\n",
      "hsa-mir-3193\n",
      "hsa-mir-3199-1\n",
      "hsa-mir-3202-1\n",
      "hsa-mir-3654\n",
      "hsa-mir-3655\n",
      "hsa-mir-3688-1\n",
      "hsa-mir-374b\n",
      "hsa-mir-378d-2\n",
      "hsa-mir-3907\n",
      "hsa-mir-425\n",
      "hsa-mir-4284\n",
      "hsa-mir-4434\n",
      "hsa-mir-4435-2\n",
      "hsa-mir-4487\n",
      "hsa-mir-4647\n",
      "hsa-mir-4661\n",
      "hsa-mir-4678\n",
      "hsa-mir-4733\n",
      "hsa-mir-4747\n",
      "hsa-mir-501\n",
      "hsa-mir-5094\n",
      "hsa-mir-5571\n",
      "hsa-mir-5690\n",
      "hsa-mir-571\n",
      "hsa-mir-597\n",
      "hsa-mir-6507\n",
      "hsa-mir-6780b\n",
      "hsa-mir-6808\n",
      "hsa-mir-6811\n",
      "hsa-mir-6868\n",
      "hsa-mir-6872\n",
      "hsa-mir-6888\n",
      "hsa-mir-7111\n",
      "hsa-mir-7151\n",
      "hsa-mir-7843\n",
      "hsa-mir-7849\n",
      "hsa-mir-8085\n",
      "hsa-mir-938\n",
      "Saved RFE results to: ../results/recursive_feature_elimination/recursive_feature_selection_general.csv\n"
     ]
    }
   ],
   "source": [
    "displayRankedFeatures(selector_pos_neg, \n",
    "                      \"Top selected features for general diagnosis of lung cancer\", \n",
    "                      \"../results/recursive_feature_elimination/recursive_feature_selection_general.csv\")"
   ]
  },
  {
   "cell_type": "markdown",
   "metadata": {},
   "source": [
    "# Stage level feature selection"
   ]
  },
  {
   "cell_type": "code",
   "execution_count": 22,
   "metadata": {},
   "outputs": [
    {
     "name": "stdout",
     "output_type": "stream",
     "text": [
      "Encoded stage labels: [   0    1    2 ... 1088 1089 1090]\n"
     ]
    }
   ],
   "source": [
    "from sklearn.preprocessing import LabelEncoder\n",
    "\n",
    "# Convert stage labels to categorical integers\n",
    "le_stage = LabelEncoder()\n",
    "stage_labels_encoded = le_stage.fit_transform(stage_labels)\n",
    "\n",
    "# Confirm unique classes\n",
    "print(\"Encoded stage labels:\", np.unique(stage_labels_encoded))\n",
    "\n",
    "# Define Logistic Regression model for RFE (stage classification)\n",
    "estimator_stage = LogisticRegression(solver='lbfgs', max_iter=2000, class_weight='balanced')\n",
    "\n",
    "# Perform RFE with more flexibility\n",
    "selector_stage = RFE(estimator_stage, n_features_to_select=50, step=5)  # Increased features\n",
    "selector_stage = selector_stage.fit(miRNA_data_scaled, stage_labels_encoded)  # Use encoded labels"
   ]
  },
  {
   "cell_type": "code",
   "execution_count": 24,
   "metadata": {},
   "outputs": [
    {
     "ename": "AttributeError",
     "evalue": "'RFE' object has no attribute 'support_'",
     "output_type": "error",
     "traceback": [
      "\u001b[1;31m---------------------------------------------------------------------------\u001b[0m",
      "\u001b[1;31mAttributeError\u001b[0m                            Traceback (most recent call last)",
      "Cell \u001b[1;32mIn[24], line 2\u001b[0m\n\u001b[0;32m      1\u001b[0m \u001b[38;5;66;03m# Display & Save the selected features\u001b[39;00m\n\u001b[1;32m----> 2\u001b[0m \u001b[43mdisplayRankedFeatures\u001b[49m\u001b[43m(\u001b[49m\u001b[43mselector_stage\u001b[49m\u001b[43m,\u001b[49m\u001b[43m \u001b[49m\n\u001b[0;32m      3\u001b[0m \u001b[43m                      \u001b[49m\u001b[38;5;124;43m\"\u001b[39;49m\u001b[38;5;124;43mTop selected features for stage prediction of lung cancer\u001b[39;49m\u001b[38;5;124;43m\"\u001b[39;49m\u001b[43m,\u001b[49m\u001b[43m \u001b[49m\n\u001b[0;32m      4\u001b[0m \u001b[43m                      \u001b[49m\u001b[38;5;124;43m\"\u001b[39;49m\u001b[38;5;124;43m../results/recursive_feature_elimination/recursive_feature_selection_stage.csv\u001b[39;49m\u001b[38;5;124;43m\"\u001b[39;49m\u001b[43m)\u001b[49m\n",
      "Cell \u001b[1;32mIn[15], line 2\u001b[0m, in \u001b[0;36mdisplayRankedFeatures\u001b[1;34m(selector, disp_string, save_path)\u001b[0m\n\u001b[0;32m      1\u001b[0m \u001b[38;5;28;01mdef\u001b[39;00m\u001b[38;5;250m \u001b[39m\u001b[38;5;21mdisplayRankedFeatures\u001b[39m(selector, disp_string, save_path):\n\u001b[1;32m----> 2\u001b[0m     top_features_mask \u001b[38;5;241m=\u001b[39m \u001b[43mselector\u001b[49m\u001b[38;5;241;43m.\u001b[39;49m\u001b[43msupport_\u001b[49m\n\u001b[0;32m      3\u001b[0m     top_features_indices \u001b[38;5;241m=\u001b[39m [i \u001b[38;5;28;01mfor\u001b[39;00m i, selected \u001b[38;5;129;01min\u001b[39;00m \u001b[38;5;28menumerate\u001b[39m(top_features_mask) \u001b[38;5;28;01mif\u001b[39;00m selected]\n\u001b[0;32m      5\u001b[0m     \u001b[38;5;28mprint\u001b[39m(disp_string)\n",
      "\u001b[1;31mAttributeError\u001b[0m: 'RFE' object has no attribute 'support_'"
     ]
    }
   ],
   "source": [
    "# Display & Save the selected features\n",
    "displayRankedFeatures(selector_stage, \n",
    "                      \"Top selected features for stage prediction of lung cancer\", \n",
    "                      \"../results/recursive_feature_elimination/recursive_feature_selection_stage.csv\")"
   ]
  },
  {
   "cell_type": "markdown",
   "metadata": {},
   "source": [
    "# Subtype level feature selection"
   ]
  },
  {
   "cell_type": "code",
   "execution_count": 13,
   "metadata": {},
   "outputs": [],
   "source": [
    "estimator_subtype = LogisticRegression(solver='lbfgs', max_iter=2000, class_weight='balanced')\n",
    "selector_subtype = RFE(estimator_subtype, n_features_to_select=10,step=10)\n",
    "selector_subtype = selector_subtype.fit(miRNA_data_scaled_np, subtype_labels)"
   ]
  },
  {
   "cell_type": "code",
   "execution_count": 14,
   "metadata": {},
   "outputs": [
    {
     "name": "stdout",
     "output_type": "stream",
     "text": [
      "Top 10 ranked features for subtype prediction of lung cancer\n",
      "hsa-mir-1303\n",
      "hsa-mir-3688-1\n",
      "hsa-mir-378d-2\n",
      "hsa-mir-378i\n",
      "hsa-mir-4487\n",
      "hsa-mir-4647\n",
      "hsa-mir-4678\n",
      "hsa-mir-5690\n",
      "hsa-mir-5696\n",
      "hsa-mir-6764\n"
     ]
    }
   ],
   "source": [
    "displayRankedFeatures(selector_subtype, \"Top 10 ranked features for subtype prediction of lung cancer\", \"../results/recursive_feature_elimination/recursive_feature_selection_subtype.csv\")"
   ]
  },
  {
   "cell_type": "markdown",
   "metadata": {},
   "source": [
    "# Selecting features specific for each stage"
   ]
  },
  {
   "cell_type": "code",
   "execution_count": 29,
   "metadata": {},
   "outputs": [
    {
     "name": "stdout",
     "output_type": "stream",
     "text": [
      "Column names in dataset: Index(['hsa-let-7a-1', 'hsa-let-7a-2', 'hsa-let-7a-3', 'hsa-let-7b',\n",
      "       'hsa-let-7c', 'hsa-let-7d', 'hsa-let-7e', 'hsa-let-7f-1',\n",
      "       'hsa-let-7f-2', 'hsa-let-7g',\n",
      "       ...\n",
      "       'hsa-mir-943', 'hsa-mir-944', 'hsa-mir-95', 'hsa-mir-9500',\n",
      "       'hsa-mir-96', 'hsa-mir-98', 'hsa-mir-99a', 'hsa-mir-99b', 'stage',\n",
      "       'subtype'],\n",
      "      dtype='object', length=1883)\n",
      "Fixed segmentation! Data shape per stage:\n",
      "Stage 0: (11, 1881), Stage 1: (566, 1881), Stage 2: (308, 1881), Stage 3: (175, 1881), Stage 4: (31, 1881)\n"
     ]
    }
   ],
   "source": [
    "# Print column names to check what's available\n",
    "print(\"Column names in dataset:\", labeled_miRNA_data.columns)\n",
    "\n",
    "# Define columns to drop (only if they exist in the dataset)\n",
    "columns_to_drop = ['stage', 'subtype']\n",
    "if 'general' in labeled_miRNA_data.columns:\n",
    "    columns_to_drop.append('general')\n",
    "\n",
    "# Segment the data based on stage 0 - 4\n",
    "stage_0_df = labeled_miRNA_data[labeled_miRNA_data[\"stage\"] == 0]  # healthy patients\n",
    "stage_1_df = labeled_miRNA_data[labeled_miRNA_data[\"stage\"] == 1]\n",
    "stage_2_df = labeled_miRNA_data[labeled_miRNA_data[\"stage\"] == 2]\n",
    "stage_3_df = labeled_miRNA_data[labeled_miRNA_data[\"stage\"] == 3]\n",
    "stage_4_df = labeled_miRNA_data[labeled_miRNA_data[\"stage\"] == 4]\n",
    "\n",
    "# Drop only columns that exist in the dataset\n",
    "stage_0_data, stage_0_labels = stage_0_df.drop(columns=[col for col in columns_to_drop if col in stage_0_df.columns]), stage_0_df[\"stage\"]\n",
    "stage_1_data, stage_1_labels = stage_1_df.drop(columns=[col for col in columns_to_drop if col in stage_1_df.columns]), stage_1_df[\"stage\"]\n",
    "stage_2_data, stage_2_labels = stage_2_df.drop(columns=[col for col in columns_to_drop if col in stage_2_df.columns]), stage_2_df[\"stage\"]\n",
    "stage_3_data, stage_3_labels = stage_3_df.drop(columns=[col for col in columns_to_drop if col in stage_3_df.columns]), stage_3_df[\"stage\"]\n",
    "stage_4_data, stage_4_labels = stage_4_df.drop(columns=[col for col in columns_to_drop if col in stage_4_df.columns]), stage_4_df[\"stage\"]\n",
    "\n",
    "# Confirm fix\n",
    "print(\"Fixed segmentation! Data shape per stage:\")\n",
    "print(f\"Stage 0: {stage_0_data.shape}, Stage 1: {stage_1_data.shape}, Stage 2: {stage_2_data.shape}, Stage 3: {stage_3_data.shape}, Stage 4: {stage_4_data.shape}\")"
   ]
  },
  {
   "cell_type": "code",
   "execution_count": null,
   "metadata": {},
   "outputs": [
    {
     "name": "stdout",
     "output_type": "stream",
     "text": [
      "Column names in dataset: Index(['hsa-let-7a-1', 'hsa-let-7a-2', 'hsa-let-7a-3', 'hsa-let-7b',\n",
      "       'hsa-let-7c', 'hsa-let-7d', 'hsa-let-7e', 'hsa-let-7f-1',\n",
      "       'hsa-let-7f-2', 'hsa-let-7g',\n",
      "       ...\n",
      "       'hsa-mir-943', 'hsa-mir-944', 'hsa-mir-95', 'hsa-mir-9500',\n",
      "       'hsa-mir-96', 'hsa-mir-98', 'hsa-mir-99a', 'hsa-mir-99b', 'stage',\n",
      "       'subtype'],\n",
      "      dtype='object', length=1883)\n",
      "Fixed segmentation! Data shape per subtype:\n",
      "Subtype 0: (11, 1881), Subtype 1: (560, 1881), Subtype 2: (519, 1881), Subtype 3: (0, 1881), Subtype 4: (1, 1881), Subtype 5: (0, 1881)\n"
     ]
    }
   ],
   "source": [
    "# Print column names to check what's available\n",
    "print(\"Column names in dataset:\", labeled_miRNA_data.columns)\n",
    "\n",
    "# Define columns to drop (only if they exist in the dataset)\n",
    "columns_to_drop = ['stage', 'subtype']\n",
    "if 'general' in labeled_miRNA_data.columns:\n",
    "    columns_to_drop.append('general')\n",
    "\n",
    "# Segmenting the data based on subtype 0 - 5\n",
    "subtype_0_df = labeled_miRNA_data[labeled_miRNA_data[\"subtype\"] == 0]  # Subtype 0 patients\n",
    "subtype_1_df = labeled_miRNA_data[labeled_miRNA_data[\"subtype\"] == 1]\n",
    "subtype_2_df = labeled_miRNA_data[labeled_miRNA_data[\"subtype\"] == 2]\n",
    "subtype_3_df = labeled_miRNA_data[labeled_miRNA_data[\"subtype\"] == 3]\n",
    "subtype_4_df = labeled_miRNA_data[labeled_miRNA_data[\"subtype\"] == 4]\n",
    "subtype_5_df = labeled_miRNA_data[labeled_miRNA_data[\"subtype\"] == 5]\n",
    "\n",
    "# Drop only label columns that exist\n",
    "subtype_0_data, subtype_0_labels = subtype_0_df.drop(columns=[col for col in columns_to_drop if col in subtype_0_df.columns]), subtype_0_df[\"subtype\"]\n",
    "subtype_1_data, subtype_1_labels = subtype_1_df.drop(columns=[col for col in columns_to_drop if col in subtype_1_df.columns]), subtype_1_df[\"subtype\"]\n",
    "subtype_2_data, subtype_2_labels = subtype_2_df.drop(columns=[col for col in columns_to_drop if col in subtype_2_df.columns]), subtype_2_df[\"subtype\"]\n",
    "subtype_3_data, subtype_3_labels = subtype_3_df.drop(columns=[col for col in columns_to_drop if col in subtype_3_df.columns]), subtype_3_df[\"subtype\"]\n",
    "subtype_4_data, subtype_4_labels = subtype_4_df.drop(columns=[col for col in columns_to_drop if col in subtype_4_df.columns]), subtype_4_df[\"subtype\"]\n",
    "subtype_5_data, subtype_5_labels = subtype_5_df.drop(columns=[col for col in columns_to_drop if col in subtype_5_df.columns]), subtype_5_df[\"subtype\"]\n",
    "\n",
    "# Confirm fix\n",
    "print(\"Fixed segmentation! Data shape per subtype:\")\n",
    "print(f\"Subtype 0: {subtype_0_data.shape}, Subtype 1: {subtype_1_data.shape}, Subtype 2: {subtype_2_data.shape}, Subtype 3: {subtype_3_data.shape}, Subtype 4: {subtype_4_data.shape}, Subtype 5: {subtype_5_data.shape}\")"
   ]
  },
  {
   "cell_type": "code",
   "execution_count": 44,
   "metadata": {},
   "outputs": [],
   "source": [
    "import numpy as np\n",
    "import pandas as pd\n",
    "from sklearn.preprocessing import LabelEncoder, StandardScaler\n",
    "from sklearn.feature_selection import RFE\n",
    "from sklearn.linear_model import LogisticRegression\n",
    "\n",
    "def parameterSpecificSelection(healthy_data, unhealthy_data, healthy_labels, unhealthy_labels, parameter_name, save_path):\n",
    "    \"\"\"\n",
    "    Runs Recursive Feature Elimination (RFE) to select top features for a given classification task.\n",
    "    \n",
    "    Args:\n",
    "        healthy_data (pd.DataFrame): Features for healthy cases\n",
    "        unhealthy_data (pd.DataFrame): Features for diseased cases\n",
    "        healthy_labels (pd.Series): Labels for healthy cases\n",
    "        unhealthy_labels (pd.Series): Labels for diseased cases\n",
    "        parameter_name (str): Name of the classification task (e.g., \"Stage\" or \"Subtype\")\n",
    "        save_path (str): File path to save selected features\n",
    "    \"\"\"\n",
    "\n",
    "    # Step 1: Validate Data\n",
    "    if healthy_data.empty or unhealthy_data.empty:\n",
    "        print(f\"❌ ERROR: One of the datasets is empty! Skipping {parameter_name} analysis.\")\n",
    "        return\n",
    "\n",
    "    if healthy_labels.empty or unhealthy_labels.empty:\n",
    "        print(f\"❌ ERROR: One of the label sets is empty! Skipping {parameter_name} analysis.\")\n",
    "        return\n",
    "\n",
    "    # Step 2: Combine Data\n",
    "    X = pd.concat([healthy_data, unhealthy_data])\n",
    "    Y = pd.concat([healthy_labels, unhealthy_labels])\n",
    "\n",
    "    # Step 3: Scale Features\n",
    "    scaler = StandardScaler()\n",
    "    X_scaled = scaler.fit_transform(X)\n",
    "\n",
    "    # Step 4: Encode Labels\n",
    "    Y_encoded = LabelEncoder().fit_transform(Y)\n",
    "\n",
    "    # Step 5: Perform Recursive Feature Elimination (RFE)\n",
    "    estimator = LogisticRegression(solver='lbfgs', max_iter=2000, class_weight='balanced')\n",
    "    selector = RFE(estimator, n_features_to_select=20, step=5)  # Adjust `n_features_to_select` as needed\n",
    "    selector.fit(X_scaled, Y_encoded)\n",
    "\n",
    "    # Step 6: Save Selected Features\n",
    "    displayRankedFeatures(selector, f'Top 20 ranked features for {parameter_name} lung cancer', save_path)\n",
    "    print(f\"Feature selection for {parameter_name} completed. Results saved to {save_path}.\")"
   ]
  },
  {
   "cell_type": "markdown",
   "metadata": {},
   "source": [
    "### Healthy vs Stage I"
   ]
  },
  {
   "cell_type": "code",
   "execution_count": 45,
   "metadata": {},
   "outputs": [
    {
     "name": "stdout",
     "output_type": "stream",
     "text": [
      "Top 10 ranked features for Stage I lung cancer\n",
      "hsa-mir-19a\n",
      "hsa-mir-3125\n",
      "hsa-mir-4487\n",
      "hsa-mir-4505\n",
      "hsa-mir-4661\n",
      "hsa-mir-4733\n",
      "hsa-mir-4745\n",
      "hsa-mir-5571\n",
      "hsa-mir-5690\n",
      "hsa-mir-607\n",
      "Saved RFE results to: ../results/recursive_feature_elimination/recursive_feature_selection_stage1.csv\n"
     ]
    }
   ],
   "source": [
    "parameterSpecficSelection(stage_0_data, stage_1_data, stage_0_labels, stage_1_labels, \"Stage I\" , \"../results/recursive_feature_elimination/recursive_feature_selection_stage1.csv\")"
   ]
  },
  {
   "cell_type": "markdown",
   "metadata": {},
   "source": [
    "### Healthy vs Stage II"
   ]
  },
  {
   "cell_type": "code",
   "execution_count": 46,
   "metadata": {},
   "outputs": [
    {
     "name": "stdout",
     "output_type": "stream",
     "text": [
      "Top 10 ranked features for Stage II lung cancer\n",
      "hsa-mir-1282\n",
      "hsa-mir-2114\n",
      "hsa-mir-30b\n",
      "hsa-mir-3683\n",
      "hsa-mir-449a\n",
      "hsa-mir-4663\n",
      "hsa-mir-571\n",
      "hsa-mir-6868\n",
      "hsa-mir-6872\n",
      "hsa-mir-7849\n",
      "Saved RFE results to: ../results/recursive_feature_elimination/recursive_feature_selection_stage2.csv\n"
     ]
    }
   ],
   "source": [
    "parameterSpecficSelection(stage_0_data, stage_2_data, stage_0_labels, stage_2_labels, \"Stage II\", \"../results/recursive_feature_elimination/recursive_feature_selection_stage2.csv\")"
   ]
  },
  {
   "cell_type": "markdown",
   "metadata": {},
   "source": [
    "### Healthy vs Stage III"
   ]
  },
  {
   "cell_type": "code",
   "execution_count": 47,
   "metadata": {},
   "outputs": [
    {
     "name": "stdout",
     "output_type": "stream",
     "text": [
      "Top 10 ranked features for Stage III lung cancer\n",
      "hsa-mir-122\n",
      "hsa-mir-3193\n",
      "hsa-mir-4729\n",
      "hsa-mir-4770\n",
      "hsa-mir-497\n",
      "hsa-mir-5681a\n",
      "hsa-mir-5690\n",
      "hsa-mir-571\n",
      "hsa-mir-6507\n",
      "hsa-mir-6879\n",
      "Saved RFE results to: ../results/recursive_feature_elimination/recursive_feature_selection_stage3.csv\n"
     ]
    }
   ],
   "source": [
    "parameterSpecficSelection(stage_0_data, stage_3_data, stage_0_labels, stage_3_labels, \"Stage III\", \"../results/recursive_feature_elimination/recursive_feature_selection_stage3.csv\")"
   ]
  },
  {
   "cell_type": "markdown",
   "metadata": {},
   "source": [
    "### Healthy vs Stage IV"
   ]
  },
  {
   "cell_type": "code",
   "execution_count": 48,
   "metadata": {},
   "outputs": [
    {
     "name": "stdout",
     "output_type": "stream",
     "text": [
      "Top 10 ranked features for Stage IV lung cancer\n",
      "hsa-mir-3162\n",
      "hsa-mir-3202-1\n",
      "hsa-mir-3936\n",
      "hsa-mir-4679-2\n",
      "hsa-mir-571\n",
      "hsa-mir-6506\n",
      "hsa-mir-6879\n",
      "hsa-mir-7113\n",
      "hsa-mir-7843\n",
      "hsa-mir-7848\n",
      "Saved RFE results to: ../results/recursive_feature_elimination/recursive_feature_selection_stage4.csv\n"
     ]
    }
   ],
   "source": [
    "parameterSpecficSelection(stage_0_data, stage_4_data, stage_0_labels, stage_4_labels, \"Stage IV\", \"../results/recursive_feature_elimination/recursive_feature_selection_stage4.csv\")"
   ]
  },
  {
   "cell_type": "markdown",
   "metadata": {},
   "source": [
    "# Selecting specific features for each subtype "
   ]
  },
  {
   "cell_type": "markdown",
   "metadata": {},
   "source": [
    "### Healthy vs Adenocarcinoma"
   ]
  },
  {
   "cell_type": "code",
   "execution_count": 49,
   "metadata": {},
   "outputs": [
    {
     "name": "stdout",
     "output_type": "stream",
     "text": [
      "Top 10 ranked features for adenocarcinoma lung cancer\n",
      "hsa-mir-218-1\n",
      "hsa-mir-3688-1\n",
      "hsa-mir-378d-2\n",
      "hsa-mir-4487\n",
      "hsa-mir-4647\n",
      "hsa-mir-4661\n",
      "hsa-mir-4678\n",
      "hsa-mir-500b\n",
      "hsa-mir-607\n",
      "hsa-mir-7111\n",
      "Saved RFE results to: ../results/recursive_feature_elimination/recursive_feature_selection_subtype1.csv\n"
     ]
    }
   ],
   "source": [
    "parameterSpecficSelection(subtype_0_data, subtype_1_data, subtype_0_labels, subtype_1_labels, \"adenocarcinoma\", \"../results/recursive_feature_elimination/recursive_feature_selection_subtype1.csv\")"
   ]
  },
  {
   "cell_type": "markdown",
   "metadata": {},
   "source": [
    "### Healthy vs Squamous cell carcinoma"
   ]
  },
  {
   "cell_type": "code",
   "execution_count": 50,
   "metadata": {},
   "outputs": [
    {
     "name": "stdout",
     "output_type": "stream",
     "text": [
      "Top 10 ranked features for squamous cell carcinoma lung cancer\n",
      "hsa-mir-1294\n",
      "hsa-mir-19a\n",
      "hsa-mir-3171\n",
      "hsa-mir-4661\n",
      "hsa-mir-4678\n",
      "hsa-mir-4795\n",
      "hsa-mir-483\n",
      "hsa-mir-497\n",
      "hsa-mir-607\n",
      "hsa-mir-6868\n",
      "Saved RFE results to: ../results/recursive_feature_elimination/recursive_feature_selection_subtype2.csv\n"
     ]
    }
   ],
   "source": [
    "parameterSpecficSelection(subtype_0_data, subtype_2_data, subtype_0_labels, subtype_2_labels, \"squamous cell carcinoma\", \"../results/recursive_feature_elimination/recursive_feature_selection_subtype2.csv\")"
   ]
  },
  {
   "cell_type": "markdown",
   "metadata": {},
   "source": [
    "### Heathy vs large cell*\n",
    "\n",
    "There are currently no samples of large cell lung cancer in the data set"
   ]
  },
  {
   "cell_type": "markdown",
   "metadata": {},
   "source": [
    "### Healthy vs Mesothelimoa"
   ]
  },
  {
   "cell_type": "code",
   "execution_count": 51,
   "metadata": {},
   "outputs": [
    {
     "name": "stdout",
     "output_type": "stream",
     "text": [
      "Top 10 ranked features for mesothelimoa lung cancer\n",
      "hsa-mir-2861\n",
      "hsa-mir-3132\n",
      "hsa-mir-4498\n",
      "hsa-mir-4505\n",
      "hsa-mir-4512\n",
      "hsa-mir-4701\n",
      "hsa-mir-4735\n",
      "hsa-mir-4776-1\n",
      "hsa-mir-6791\n",
      "hsa-mir-6863\n",
      "Saved RFE results to: ../results/recursive_feature_elimination/recursive_feature_selection_subtype4.csv\n"
     ]
    }
   ],
   "source": [
    "parameterSpecficSelection(subtype_0_data, subtype_4_data, subtype_0_labels, subtype_4_labels, \"mesothelimoa\", \"../results/recursive_feature_elimination/recursive_feature_selection_subtype4.csv\")"
   ]
  },
  {
   "cell_type": "markdown",
   "metadata": {},
   "source": [
    "### Healthy vs Small cell*"
   ]
  },
  {
   "cell_type": "markdown",
   "metadata": {},
   "source": [
    "There are currently no samples of large cell lung cancer in the data set"
   ]
  }
 ],
 "metadata": {
  "kernelspec": {
   "display_name": ".venv",
   "language": "python",
   "name": "python3"
  },
  "language_info": {
   "codemirror_mode": {
    "name": "ipython",
    "version": 3
   },
   "file_extension": ".py",
   "mimetype": "text/x-python",
   "name": "python",
   "nbconvert_exporter": "python",
   "pygments_lexer": "ipython3",
   "version": "3.13.0"
  }
 },
 "nbformat": 4,
 "nbformat_minor": 2
}
