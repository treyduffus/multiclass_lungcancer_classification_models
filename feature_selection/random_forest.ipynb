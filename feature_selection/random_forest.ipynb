{
  "nbformat": 4,
  "nbformat_minor": 0,
  "metadata": {
    "colab": {
      "provenance": []
    },
    "kernelspec": {
      "name": "python3",
      "display_name": "Python 3"
    },
    "language_info": {
      "name": "python"
    }
  },
  "cells": [
    {
      "cell_type": "markdown",
      "source": [
        "Import Libraries"
      ],
      "metadata": {
        "id": "kITp1ZnA8_Be"
      }
    },
    {
      "cell_type": "code",
      "execution_count": 1,
      "metadata": {
        "id": "DpoG6_V081SQ"
      },
      "outputs": [],
      "source": [
        "# Group 33, Florida Atlantic University\n",
        "# Random Forest Feature Selection model\n",
        "import numpy as np\n",
        "import pandas as pd\n",
        "import seaborn as sns\n",
        "import matplotlib.pyplot as plt\n",
        "from sklearn.ensemble import RandomForestClassifier\n",
        "from sklearn.feature_selection import SelectFromModel\n",
        "from sklearn.preprocessing import StandardScaler"
      ]
    },
    {
      "cell_type": "markdown",
      "source": [
        "Load & Process Dataset"
      ],
      "metadata": {
        "id": "0hsvZ3p185xF"
      }
    },
    {
      "cell_type": "code",
      "source": [
        "labeled_miRNA_data = pd.read_csv('../processed_data/miRNA_stage_subtype.csv')\n",
        "print(labeled_miRNA_data.shape)"
      ],
      "metadata": {
        "colab": {
          "base_uri": "https://localhost:8080/"
        },
        "id": "KtFOKEjD9G9w",
        "outputId": "78ca466d-01fe-45b2-d890-0d8cc4e28866"
      },
      "execution_count": 2,
      "outputs": [
        {
          "output_type": "stream",
          "name": "stdout",
          "text": [
            "(1091, 1883)\n"
          ]
        }
      ]
    },
    {
      "cell_type": "markdown",
      "source": [
        "Separate Features & Target"
      ],
      "metadata": {
        "id": "xUBvrq2X9MOO"
      }
    },
    {
      "cell_type": "code",
      "source": [
        "# Separating data from labels\n",
        "pos_neg_labels, stage_labels, subtype_labels = (\n",
        "    labeled_miRNA_data.iloc[:, -2],\n",
        "    labeled_miRNA_data.iloc[:, -2],\n",
        "    labeled_miRNA_data.iloc[:, -1],\n",
        ")\n",
        "\n",
        "# Condensing stage information into a general diagnosis\n",
        "# 0 == negative, 1 == positive for lung cancer\n",
        "pos_neg_labels = pos_neg_labels.apply(lambda x: 1 if x > 1 else x)\n",
        "\n",
        "miRNA_data = labeled_miRNA_data.iloc[:, :-2]"
      ],
      "metadata": {
        "id": "Gg20cOc-9mTQ"
      },
      "execution_count": 3,
      "outputs": []
    },
    {
      "cell_type": "markdown",
      "source": [
        "Scaling the Data"
      ],
      "metadata": {
        "id": "6Ybb4px-9phc"
      }
    },
    {
      "cell_type": "code",
      "source": [
        "scaler = StandardScaler()\n",
        "miRNA_data_scaled_np = scaler.fit_transform(miRNA_data)"
      ],
      "metadata": {
        "id": "yDf0MZ2O9tMg"
      },
      "execution_count": 4,
      "outputs": []
    },
    {
      "cell_type": "markdown",
      "source": [
        "Random Forest Feature Selection"
      ],
      "metadata": {
        "id": "Wi2yhCaJ98eu"
      }
    },
    {
      "cell_type": "code",
      "source": [
        "# Diagnosis level feature selection using Random Forest\n",
        "def performRFSelection(X, y, feature_names, disp_string, save_path):\n",
        "    \"\"\"\n",
        "    Perform Random Forest feature selection.\n",
        "\n",
        "    Parameters:\n",
        "        X (array): Feature data\n",
        "        y (array): Labels\n",
        "        feature_names (list): List of feature names\n",
        "        disp_string (str): Description of the process\n",
        "        save_path (str): Path to save the results\n",
        "\n",
        "    Returns:\n",
        "        None\n",
        "    \"\"\"\n",
        "    rf = RandomForestClassifier(n_estimators=1000, class_weight=\"balanced\", random_state=42)\n",
        "    rf.fit(X, y)\n",
        "\n",
        "    # Determine Feature Importance\n",
        "    importances = rf.feature_importances_\n",
        "    importance_df = pd.DataFrame({\"Feature\": feature_names, \"Importance\": importances})\n",
        "    importance_df = importance_df.sort_values(by=\"Importance\", ascending=False)\n",
        "\n",
        "    top_features = importance_df\n",
        "    top_ten_features = top_features.head(10)\n",
        "    print(disp_string)\n",
        "    print(top_ten_features)\n",
        "\n",
        "    top_features.to_csv(save_path, index=False)\n",
        "\n",
        "    # Plotting feature importances\n",
        "    # plt.figure(figsize=(10, 6))\n",
        "    # sns.barplot(data=top_ten_features, x=\"Importance\", y=\"Feature\", palette=\"viridis\")\n",
        "    # plt.title(f\"Top 10 Features by Random Forest: {disp_string}\")\n",
        "    # plt.tight_layout()\n",
        "    # plt.savefig(save_path.replace(\".csv\", \".png\"))\n",
        "    # plt.show()"
      ],
      "metadata": {
        "id": "OvWxLrao9_0r"
      },
      "execution_count": 5,
      "outputs": []
    },
    {
      "cell_type": "code",
      "source": [
        "miRNA_list = miRNA_data.columns.to_list()"
      ],
      "metadata": {
        "id": "7eK7WI1bNE8S"
      },
      "execution_count": 6,
      "outputs": []
    },
    {
      "cell_type": "code",
      "source": [
        "# Diagnosis level\n",
        "performRFSelection(\n",
        "    miRNA_data_scaled_np,\n",
        "    pos_neg_labels,\n",
        "    miRNA_list,\n",
        "    \"Top 10 features for general diagnosis of lung cancer\",\n",
        "    \"../results/feature_selection_results.csv\"\n",
        ")"
      ],
      "metadata": {
        "colab": {
          "base_uri": "https://localhost:8080/"
        },
        "id": "6vLb4VOxM62K",
        "outputId": "a900a986-4e0a-4d72-8a8f-31012fa5f83d"
      },
      "execution_count": 7,
      "outputs": [
        {
          "output_type": "stream",
          "name": "stdout",
          "text": [
            "Top 10 features for general diagnosis of lung cancer\n",
            "            Feature  Importance\n",
            "317     hsa-mir-23c    0.015994\n",
            "272     hsa-mir-202    0.015567\n",
            "324   hsa-mir-26a-1    0.014352\n",
            "162    hsa-mir-1304    0.012038\n",
            "353     hsa-mir-30b    0.011801\n",
            "325   hsa-mir-26a-2    0.011089\n",
            "667     hsa-mir-411    0.010557\n",
            "1341   hsa-mir-5690    0.010296\n",
            "335     hsa-mir-299    0.009710\n",
            "485   hsa-mir-329-2    0.008340\n"
          ]
        }
      ]
    },
    {
      "cell_type": "code",
      "source": [
        "# Stage level\n",
        "performRFSelection(\n",
        "    miRNA_data_scaled_np,\n",
        "    stage_labels,\n",
        "    miRNA_list,\n",
        "    \"Top 10 features for stage prediction of lung cancer\",\n",
        "    \"../results/random_forest/feature_selection_stage.csv\"\n",
        ")"
      ],
      "metadata": {
        "colab": {
          "base_uri": "https://localhost:8080/"
        },
        "id": "Bl77IwY3M7pO",
        "outputId": "157776d4-0558-4598-960d-c46d9c747c82"
      },
      "execution_count": 8,
      "outputs": [
        {
          "output_type": "stream",
          "name": "stdout",
          "text": [
            "Top 10 features for stage prediction of lung cancer\n",
            "             Feature  Importance\n",
            "231      hsa-mir-185    0.003067\n",
            "353      hsa-mir-30b    0.003040\n",
            "324    hsa-mir-26a-1    0.002844\n",
            "272      hsa-mir-202    0.002732\n",
            "253      hsa-mir-195    0.002657\n",
            "325    hsa-mir-26a-2    0.002609\n",
            "508     hsa-mir-3610    0.002568\n",
            "1127     hsa-mir-504    0.002392\n",
            "162     hsa-mir-1304    0.002363\n",
            "179   hsa-mir-135a-2    0.002353\n"
          ]
        }
      ]
    },
    {
      "cell_type": "code",
      "source": [
        "# Subtype level\n",
        "performRFSelection(\n",
        "    miRNA_data_scaled_np,\n",
        "    subtype_labels,\n",
        "    miRNA_list,\n",
        "    \"Top 10 features for subtype prediction of lung cancer\",\n",
        "    \"../results/random_forest/feature_selection_subtype.csv\"\n",
        ")"
      ],
      "metadata": {
        "colab": {
          "base_uri": "https://localhost:8080/"
        },
        "id": "uw8YrMf-M-av",
        "outputId": "6d7418e5-3524-457e-a2a9-3e401a38686c"
      },
      "execution_count": 9,
      "outputs": [
        {
          "output_type": "stream",
          "name": "stdout",
          "text": [
            "Top 10 features for subtype prediction of lung cancer\n",
            "           Feature  Importance\n",
            "1447   hsa-mir-615    0.009278\n",
            "1077  hsa-mir-4792    0.007812\n",
            "568   hsa-mir-3686    0.006658\n",
            "240   hsa-mir-190b    0.006301\n",
            "168    hsa-mir-132    0.006166\n",
            "499    hsa-mir-34b    0.005997\n",
            "584   hsa-mir-3692    0.005936\n",
            "1554  hsa-mir-6738    0.005705\n",
            "592   hsa-mir-374a    0.005658\n",
            "1689  hsa-mir-6863    0.005571\n"
          ]
        }
      ]
    }
  ]
}