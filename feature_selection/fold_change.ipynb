{
 "cells": [
  {
   "cell_type": "markdown",
   "metadata": {},
   "source": [
    "#### Import Libraries and Setup"
   ]
  },
  {
   "cell_type": "code",
   "execution_count": 43,
   "metadata": {},
   "outputs": [
    {
     "name": "stderr",
     "output_type": "stream",
     "text": [
      "2025-01-28 19:01:19,712 - INFO - Successfully loaded data from ../processed_data/miRNA_stage_subtype.csv\n"
     ]
    }
   ],
   "source": [
    "#!/usr/bin/env python3\n",
    "\"\"\"\n",
    "Group 33, Florida Atlantic University\n",
    "Fold Change Analysis for miRNA Expression in Cancer Stages\n",
    "Date: 11/19/24\n",
    "\"\"\"\n",
    "\n",
    "import numpy as np\n",
    "import pandas as pd\n",
    "from pathlib import Path\n",
    "import logging\n",
    "\n",
    "# Configure logging\n",
    "logging.basicConfig(\n",
    "    level=logging.INFO,\n",
    "    format='%(asctime)s - %(levelname)s - %(message)s'\n",
    ")\n",
    "\n",
    "def load_mirna_data(file_path: str) -> pd.DataFrame:\n",
    "    \"\"\"\n",
    "    Load and validate miRNA expression data from CSV file.\n",
    "    \n",
    "    Args:\n",
    "        file_path (str): Path to the CSV file containing miRNA data\n",
    "        \n",
    "    Returns:\n",
    "        pd.DataFrame: Loaded and validated miRNA data\n",
    "    \"\"\"\n",
    "    try:\n",
    "        data_path = Path(file_path)\n",
    "        if not data_path.exists():\n",
    "            raise FileNotFoundError(f\"Data file not found: {file_path}\")\n",
    "            \n",
    "        data = pd.read_csv(data_path)\n",
    "        logging.info(f\"Successfully loaded data from {file_path}\")\n",
    "        return data\n",
    "        \n",
    "    except Exception as e:\n",
    "        logging.error(f\"Error loading data: {str(e)}\")\n",
    "        raise\n",
    "\n",
    "# Load the data\n",
    "labeled_miRNA_data = load_mirna_data('../processed_data/miRNA_stage_subtype.csv')\n"
   ]
  },
  {
   "cell_type": "markdown",
   "metadata": {},
   "source": [
    "#### Data Preprocessing and Stage Aggregation"
   ]
  },
  {
   "cell_type": "code",
   "execution_count": 44,
   "metadata": {},
   "outputs": [],
   "source": [
    "def calculate_stage_averages(data: pd.DataFrame) -> tuple[pd.DataFrame, pd.DataFrame]:\n",
    "    \"\"\"\n",
    "    Calculate average expression values for healthy and cancer stages.\n",
    "    \n",
    "    Args:\n",
    "        data (pd.DataFrame): Input miRNA expression data\n",
    "        \n",
    "    Returns:\n",
    "        tuple: (stage_averages, negative_positive_averages)\n",
    "    \"\"\"\n",
    "    # Exclude metadata columns and calculate mean by stage\n",
    "    expression_cols = data.select_dtypes(include=[np.number]).columns\n",
    "    stage_averages = data[expression_cols].groupby('stage').mean()\n",
    "    \n",
    "    # Separate healthy (stage 0) and cancer cases (stages 1+)\n",
    "    healthy_cases = stage_averages.loc[[0]]\n",
    "    cancer_cases = stage_averages.loc[stage_averages.index > 0]\n",
    "    \n",
    "    # Calculate average for all cancer stages\n",
    "    cancer_average = cancer_cases.mean().to_frame().transpose()\n",
    "    \n",
    "    # Combine healthy and cancer averages\n",
    "    negative_positive_averages = pd.concat(\n",
    "        [healthy_cases, cancer_average],\n",
    "        ignore_index=True\n",
    "    ).transpose()\n",
    "    \n",
    "    negative_positive_averages.columns = ['healthy', 'cancer']\n",
    "    \n",
    "    return stage_averages, negative_positive_averages\n",
    "\n",
    "# Calculate averages\n",
    "stage_averages, neg_pos_averages = calculate_stage_averages(labeled_miRNA_data)\n"
   ]
  },
  {
   "cell_type": "markdown",
   "metadata": {},
   "source": [
    "#### Fold Change Calculation"
   ]
  },
  {
   "cell_type": "code",
   "execution_count": 45,
   "metadata": {},
   "outputs": [],
   "source": [
    "def calculate_log_fold_change(expression_data: pd.DataFrame, epsilon: float = 1e-4) -> pd.DataFrame:\n",
    "\n",
    "    \"\"\"\n",
    "    Calculate log2 fold change between cancer and healthy samples.\n",
    "    \n",
    "    Args:\n",
    "        expression_data (pd.DataFrame): DataFrame with healthy and cancer columns\n",
    "        epsilon (float): Small value to avoid division by zero\n",
    "        \n",
    "    Returns:\n",
    "        pd.DataFrame: Log2 fold changes for each miRNA\n",
    "    \"\"\"\n",
    "    # Add epsilon to avoid division by zero\n",
    "    adjusted_data = expression_data + epsilon\n",
    "    \n",
    "    # Calculate log2 fold change\n",
    "    fold_changes = np.log2(adjusted_data['cancer'] / adjusted_data['healthy'])\n",
    "    \n",
    "    # Create DataFrame with results\n",
    "    results = pd.DataFrame(\n",
    "        fold_changes,\n",
    "        columns=['log2_fold_change']\n",
    "    )\n",
    "    \n",
    "    # Add metadata columns\n",
    "    results['absolute_fold_change'] = abs(results['log2_fold_change'])\n",
    "    results['regulation'] = np.where(\n",
    "        results['log2_fold_change'] > 0,\n",
    "        'upregulated',\n",
    "        'downregulated'\n",
    "    )\n",
    "    \n",
    "    return results.sort_values('absolute_fold_change', ascending=False)\n",
    "\n",
    "# Calculate fold changes\n",
    "fold_change_results = calculate_log_fold_change(neg_pos_averages)\n"
   ]
  },
  {
   "cell_type": "markdown",
   "metadata": {},
   "source": [
    "#### Result Analysis and Visualization"
   ]
  },
  {
   "cell_type": "code",
   "execution_count": 46,
   "metadata": {},
   "outputs": [
    {
     "name": "stdout",
     "output_type": "stream",
     "text": [
      "\n",
      "Top 10 most upregulated miRNAs in cancer patients:\n",
      "                log2_fold_change   regulation\n",
      "hsa-mir-518f           15.479993  upregulated\n",
      "subtype                13.808021  upregulated\n",
      "hsa-mir-520e           13.290780  upregulated\n",
      "hsa-mir-520d           13.166629  upregulated\n",
      "hsa-mir-1283-2         12.642423  upregulated\n",
      "hsa-mir-520h           12.495451  upregulated\n",
      "hsa-mir-523            12.272183  upregulated\n",
      "hsa-mir-519d           12.218065  upregulated\n",
      "hsa-mir-515-2          11.849784  upregulated\n",
      "hsa-mir-524            11.839949  upregulated\n",
      "\n",
      "Top 10 most downregulated miRNAs in cancer patients:\n",
      "              log2_fold_change     regulation\n",
      "hsa-mir-571          -6.052735  downregulated\n",
      "hsa-mir-4663         -6.025543  downregulated\n",
      "hsa-mir-631          -4.137240  downregulated\n",
      "hsa-mir-3907         -3.888020  downregulated\n",
      "hsa-mir-1282         -3.625630  downregulated\n",
      "hsa-mir-8085         -2.992225  downregulated\n",
      "hsa-mir-3937         -2.910867  downregulated\n",
      "hsa-mir-663b         -2.855177  downregulated\n",
      "hsa-mir-4510         -2.777789  downregulated\n",
      "hsa-mir-4439         -2.762795  downregulated\n",
      "\n",
      "Summary Statistics:\n",
      "total_mirnas: 1882\n",
      "upregulated_count: 1145\n",
      "downregulated_count: 492\n",
      "max_fold_change: 15.47999284784687\n",
      "min_fold_change: -6.052735436270935\n"
     ]
    }
   ],
   "source": [
    "def analyze_fold_changes(fold_change_df: pd.DataFrame, top_n: int = 10) -> dict:\n",
    "    \"\"\"\n",
    "    Analyze fold change results and identify top regulated miRNAs.\n",
    "    \n",
    "    Args:\n",
    "        fold_change_df (pd.DataFrame): DataFrame with fold change results\n",
    "        top_n (int): Number of top regulated miRNAs to return\n",
    "        \n",
    "    Returns:\n",
    "        dict: Dictionary containing analysis results\n",
    "    \"\"\"\n",
    "    # Separate upregulated and downregulated miRNAs\n",
    "    upregulated = fold_change_df[fold_change_df['log2_fold_change'] > 0]\n",
    "    downregulated = fold_change_df[fold_change_df['log2_fold_change'] < 0]\n",
    "    \n",
    "    analysis_results = {\n",
    "        'top_upregulated': upregulated.head(top_n),\n",
    "        'top_downregulated': downregulated.head(top_n),\n",
    "        'summary_stats': {\n",
    "            'total_mirnas': len(fold_change_df),\n",
    "            'upregulated_count': len(upregulated),\n",
    "            'downregulated_count': len(downregulated),\n",
    "            'max_fold_change': fold_change_df['log2_fold_change'].max(),\n",
    "            'min_fold_change': fold_change_df['log2_fold_change'].min()\n",
    "        }\n",
    "    }\n",
    "    \n",
    "    return analysis_results\n",
    "\n",
    "# Analyze results\n",
    "analysis_results = analyze_fold_changes(fold_change_results)\n",
    "\n",
    "# Display results\n",
    "print(\"\\nTop 10 most upregulated miRNAs in cancer patients:\")\n",
    "print(analysis_results['top_upregulated'][['log2_fold_change', 'regulation']])\n",
    "\n",
    "print(\"\\nTop 10 most downregulated miRNAs in cancer patients:\")\n",
    "print(analysis_results['top_downregulated'][['log2_fold_change', 'regulation']])\n",
    "\n",
    "print(\"\\nSummary Statistics:\")\n",
    "for key, value in analysis_results['summary_stats'].items():\n",
    "    print(f\"{key}: {value}\")"
   ]
  },
  {
   "cell_type": "markdown",
   "metadata": {},
   "source": [
    "### Stage-Specific Analysis"
   ]
  },
  {
   "cell_type": "code",
   "execution_count": 47,
   "metadata": {},
   "outputs": [
    {
     "name": "stdout",
     "output_type": "stream",
     "text": [
      "\n",
      "Stage-Specific Log2 Fold Changes:\n",
      "               stage_1   stage_2   stage_3   stage_4\n",
      "hsa-let-7a-1  0.108234  0.085668  0.112585 -0.016215\n",
      "hsa-let-7a-2  0.113605  0.091411  0.117074 -0.012778\n",
      "hsa-let-7a-3  0.108118  0.085507  0.111301 -0.018098\n",
      "hsa-let-7b    0.186361  0.216619  0.127953  0.165120\n",
      "hsa-let-7c   -0.251983 -0.327775 -0.385766 -0.452331\n"
     ]
    }
   ],
   "source": [
    "def analyze_stage_specific_changes(data: pd.DataFrame, stage_averages: pd.DataFrame, epsilon: float = 1e-4) -> pd.DataFrame:\n",
    "\n",
    "    \"\"\"\n",
    "    Calculate fold changes for each cancer stage separately.\n",
    "    \n",
    "    Args:\n",
    "        data (pd.DataFrame): Original miRNA expression data\n",
    "        stage_averages (pd.DataFrame): Average expression by stage\n",
    "        epsilon (float): Small value to avoid division by zero\n",
    "        \n",
    "    Returns:\n",
    "        pd.DataFrame: Stage-specific fold changes\n",
    "    \"\"\"\n",
    "    # Get healthy (stage 0) expression\n",
    "    healthy_expression = stage_averages.loc[0]\n",
    "    \n",
    "    # Initialize results dictionary\n",
    "    stage_results = {}\n",
    "    \n",
    "    # Calculate fold changes for each cancer stage\n",
    "    for stage in stage_averages.index[1:]:  # Skip stage 0\n",
    "        stage_expression = stage_averages.loc[stage]\n",
    "        \n",
    "        # Calculate log2 fold change\n",
    "        fold_changes = np.log2(\n",
    "            (stage_expression + epsilon) / (healthy_expression + epsilon)\n",
    "        )\n",
    "        \n",
    "        stage_results[f'stage_{stage}'] = fold_changes\n",
    "    \n",
    "    # Combine results into DataFrame\n",
    "    stage_specific_changes = pd.DataFrame(stage_results)\n",
    "    \n",
    "    return stage_specific_changes\n",
    "\n",
    "# Calculate stage-specific fold changes\n",
    "stage_specific_results = analyze_stage_specific_changes(\n",
    "    labeled_miRNA_data,\n",
    "    stage_averages\n",
    ")\n",
    "\n",
    "# Print results (based on Tremayne's suggestion)\n",
    "print(\"\\nStage-Specific Log2 Fold Changes:\")\n",
    "print(stage_specific_results.head())  # Show first few rows"
   ]
  },
  {
   "cell_type": "markdown",
   "metadata": {},
   "source": [
    "#### Export Results"
   ]
  },
  {
   "cell_type": "code",
   "execution_count": 48,
   "metadata": {},
   "outputs": [
    {
     "name": "stderr",
     "output_type": "stream",
     "text": [
      "2025-01-28 19:01:23,149 - INFO - Results exported to ../results\n"
     ]
    },
    {
     "name": "stdout",
     "output_type": "stream",
     "text": [
      "\n",
      "Analysis complete. Results have been exported to the results directory.\n"
     ]
    }
   ],
   "source": [
    "def export_results(\n",
    "    fold_changes: pd.DataFrame,\n",
    "    stage_specific: pd.DataFrame,\n",
    "    output_dir: str = '../results'\n",
    ") -> None:\n",
    "    \"\"\"\n",
    "    Export analysis results to CSV files.\n",
    "    \n",
    "    Args:\n",
    "        fold_changes (pd.DataFrame): Overall fold change results\n",
    "        stage_specific (pd.DataFrame): Stage-specific fold changes\n",
    "        output_dir (str): Directory for output files\n",
    "    \"\"\"\n",
    "    # Create output directory if it doesn't exist\n",
    "    output_path = Path(output_dir)\n",
    "    output_path.mkdir(parents=True, exist_ok=True)\n",
    "    \n",
    "    # Export overall fold changes\n",
    "    fold_changes.to_csv(\n",
    "        output_path / 'fold_change_results.csv',\n",
    "        index=True\n",
    "    )\n",
    "    \n",
    "    # Export stage-specific results\n",
    "    stage_specific.to_csv(\n",
    "        output_path / 'stage_specific_fold_changes.csv',\n",
    "        index=True\n",
    "    )\n",
    "    \n",
    "    logging.info(f\"Results exported to {output_dir}\")\n",
    "\n",
    "# Export all results\n",
    "export_results(fold_change_results, stage_specific_results)\n",
    "\n",
    "print(\"\\nAnalysis complete. Results have been exported to the results directory.\")"
   ]
  }
 ],
 "metadata": {
  "kernelspec": {
   "display_name": ".venv",
   "language": "python",
   "name": "python3"
  },
  "language_info": {
   "codemirror_mode": {
    "name": "ipython",
    "version": 3
   },
   "file_extension": ".py",
   "mimetype": "text/x-python",
   "name": "python",
   "nbconvert_exporter": "python",
   "pygments_lexer": "ipython3",
   "version": "3.12.3"
  }
 },
 "nbformat": 4,
 "nbformat_minor": 2
}
