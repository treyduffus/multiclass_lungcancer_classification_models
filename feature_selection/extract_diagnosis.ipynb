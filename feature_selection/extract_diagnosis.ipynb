{
 "cells": [
  {
   "cell_type": "markdown",
   "metadata": {},
   "source": [
    "### Extract diagnosis from JSON"
   ]
  },
  {
   "cell_type": "code",
   "execution_count": 2,
   "metadata": {},
   "outputs": [
    {
     "name": "stdout",
     "output_type": "stream",
     "text": [
      "\n",
      " Extracted Diagnosis Data:\n",
      "                                case_id             primary_diagnosis  \\\n",
      "0  005669e5-1a31-45fb-ae97-9d450e74e7cb  Squamous cell carcinoma, NOS   \n",
      "1  0075437e-ba1a-46be-86d6-9773209a2b5e           Adenocarcinoma, NOS   \n",
      "2  009be09b-f9f6-43b7-8f45-4a648f8123ce           Adenocarcinoma, NOS   \n",
      "3  00fd9306-4a68-49ab-a768-e5fed126a765  Squamous cell carcinoma, NOS   \n",
      "4  01417822-b608-4934-8fe0-594315212be5  Squamous cell carcinoma, NOS   \n",
      "\n",
      "       stage                                        diagnosis  \n",
      "0  Stage IIA  Squamous cell carcinoma, NOS (Stage: Stage IIA)  \n",
      "1  Stage IIB           Adenocarcinoma, NOS (Stage: Stage IIB)  \n",
      "2   Stage IB            Adenocarcinoma, NOS (Stage: Stage IB)  \n",
      "3  Stage IIB  Squamous cell carcinoma, NOS (Stage: Stage IIB)  \n",
      "4  Stage IIA  Squamous cell carcinoma, NOS (Stage: Stage IIA)  \n",
      "\n",
      " Diagnosis data saved as '../processed_data/diagnosis_data.csv'\n"
     ]
    }
   ],
   "source": [
    "import json\n",
    "import pandas as pd\n",
    "\n",
    "# Path to clinical JSON file\n",
    "clinical_json_path = \"../raw_data/clinical.cart.2024-10-27.json\"\n",
    "\n",
    "# Load JSON file\n",
    "with open(clinical_json_path, 'r') as f:\n",
    "    clinical_data = json.load(f)\n",
    "\n",
    "# Extract relevant diagnosis information\n",
    "diagnosis_records = []\n",
    "for record in clinical_data:\n",
    "    case_id = record.get(\"case_id\")  # Unique patient ID\n",
    "    \n",
    "    if \"diagnoses\" in record and len(record[\"diagnoses\"]) > 0:\n",
    "        diagnosis_info = record[\"diagnoses\"][0]  # Assuming one diagnosis per patient\n",
    "        primary_diagnosis = diagnosis_info.get(\"primary_diagnosis\", \"Unknown\")\n",
    "        stage = diagnosis_info.get(\"ajcc_pathologic_stage\", \"Unknown\")\n",
    "        \n",
    "        # Create a combined diagnosis field\n",
    "        full_diagnosis = f\"{primary_diagnosis} (Stage: {stage})\"\n",
    "\n",
    "        diagnosis_records.append({\n",
    "            \"case_id\": case_id,\n",
    "            \"primary_diagnosis\": primary_diagnosis,\n",
    "            \"stage\": stage,\n",
    "            \"diagnosis\": full_diagnosis  # Final diagnosis format\n",
    "        })\n",
    "\n",
    "# Convert to DataFrame\n",
    "diagnosis_df = pd.DataFrame(diagnosis_records)\n",
    "\n",
    "# Display extracted diagnosis information\n",
    "print(\"\\n Extracted Diagnosis Data:\")\n",
    "print(diagnosis_df.head())\n",
    "\n",
    "# Save as CSV for merging later\n",
    "diagnosis_df.to_csv(\"../processed_data/diagnosis_data.csv\", index=False)\n",
    "print(\"\\n Diagnosis data saved as '../processed_data/diagnosis_data.csv'\")\n"
   ]
  }
 ],
 "metadata": {
  "kernelspec": {
   "display_name": ".venv",
   "language": "python",
   "name": "python3"
  },
  "language_info": {
   "codemirror_mode": {
    "name": "ipython",
    "version": 3
   },
   "file_extension": ".py",
   "mimetype": "text/x-python",
   "name": "python",
   "nbconvert_exporter": "python",
   "pygments_lexer": "ipython3",
   "version": "3.12.3"
  }
 },
 "nbformat": 4,
 "nbformat_minor": 2
}
